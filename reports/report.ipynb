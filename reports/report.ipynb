{
 "cells": [
  {
   "cell_type": "markdown",
   "metadata": {},
   "source": [
    "# Report: Inbound Logistics Forecasting Benchmark\n",
    "\n",
    "## Introduction and data\n",
    "\n",
    "<img src=\"../img/Area_Forwarding_based_inbound_logistics.png\" alt=\"moirai model\" width=350>\n",
    "\n",
    "**Introduction**\n",
    "\n",
    "The problem at hand refers to forecasting the inbound material volume (in tons) on monthly basis for the next 4 months for an international automotive company. For all main legs of the Area-Forwarding based Inbound Logistics Network, as shown in the image above. The motivation behind that was the lack of synchronization between suppliers and freight forwarders systems, causing over- or under-capacity planning whenever a plant’s material demands change abruptly, leading to higher logistics transportation costs. \n",
    "\n",
    "I published a paper last year about this system, as a result of a research on inbound forecasting systems that I started in 2018. It can be found here [Forecasting System for Inbound Logistics Material Flows at an International Automotive Company](https://www.mdpi.com/2673-4591/39/1/75). Howerver this codebase was written in R using the forecasting package [forecast](https://cran.r-project.org/package=forecast) by Robert Hyndman and George Athanasopoulos in their book [Forecasting at Scale](https://otexts.com/fpp3/). It included algorithms like SARIMA, Exponential Smoothing, Multilayer Neural Networks, Prophet and Vector Autoregression. At that point in time the python packages for timeseries forecasting were not as good as R's. However, the python ecosystem for forecasting has grown a lot in the recent years. There are Python packages like [nitxla](https://nixtlaverse.nixtla.io/), [lightgbm](https://lightgbm.readthedocs.io/en/latest/Python-API.html), [catboost](https://catboost.ai/), as well as LLM forecasting models like [chronos](https://huggingface.co/amazon/chronos-t5-large) that offer many additional functionalities to leverage the use of new algorithms. \n",
    "\n",
    "In the M5 competition results [link](https://www.sciencedirect.com/science/article/pii/S0169207021001874) it was shown that boosted tree models can outperform traditional statistical and deep learning forecasting methods. This is something we will be exploring in this project. \n",
    "\n",
    "In addition, I would like to use the historical covid numbers from the [European Centre for Disease Prevention and Control](https://www.ecdc.europa.eu/en/covid-19/data) to evaluate the influence of this variable on the accuracy of the predictions. This is something that has not been explored in research.\n",
    "\n",
    "**Research question**: *Which new methods can be used to improve the forecasting accuracy for the Inbound Logistics Volume of an International Automotive Company?*\n",
    "\n",
    "The idea is to create a forecasting system which is accurate and robust to adapt for outliers and unexpected events( e.g. COVID-19). To evaluate the forecast accuracy the `MAE (Mean Absolute Error)` and `SMAPE (Symmetric Mean Absolute Error)` will be used. This will allow us to care about the fact that in some months the transportation volume could have been 0. \n",
    "\n",
    "The test timeframes are: Jan 2022 - Apr 2022, May 2022 - Aug 2022, Jul 2022 - Oct 2022. This means that models tested in each frame can only be trained with data prior to that frame to avoid data leakage. \n",
    "\n",
    "One of the main Business KPI's to track forecast accuracy will be how many timeseries are in a particular `SMAPE` range, for that we will use the following intervals: 0% to 10%, 10 to 20%, 20 to 30%, 30 to 40%, greater than 40%. The business experts are particularly interested in having a forecating systems for which most of the timeseries have a `SMAPE` of less or equal than 20%.\n",
    "\n",
    "**Hypothesis**: *There are new forecasting methods which can deliver better accuracy than traditional statistical methods*"
   ]
  },
  {
   "cell_type": "markdown",
   "metadata": {},
   "source": [
    "\n",
    "### Data description\n",
    "\n",
    "There are two dataset, one containing the historical volume data, another one containing the production data. In total there are:\n",
    "\n",
    "- 624  inbound logistics Provider-Plant connections\n",
    "- 18  plants\n",
    "- 38  Providers\n",
    "\n",
    "The historical transport volume data contains data since 2014-01-01 until 2022-10-01.\n",
    "The historical production data contains data since 2014-01-01 until 2023-12-01. All data until October 2022 is actual produced values, the rest are planning values.\n",
    "\n",
    "The two input data sources for this project are:\n",
    "\n",
    "- **Inbound_Volume_Data.csv** contains the historical transported material volume since January 2014 until October 2022 on monthly basis. This data comes from the Logistics Parts Mangement System. \n",
    "    - **Timestamp**: Monthly data of the format YYYY/MM.\n",
    "    - **Provider**: Logistics Service Provider.\n",
    "    - **Plant**: Assembly Plant. \n",
    "    - **Actual Vol [Kg]**: Actual transported volume from Provider to Plant in kg. \n",
    "    - **Expected Vol [Kg]**: Expected transported volume from Provider to Plant in kg. $^1$\n",
    "- **production_data.csv** contains the historical production levels of all the european plants in number of vehicles per month from January 2014 until October 2022. Data after October 2022 refers to planned production values. \n",
    "    - **Timestamp**:  Monthly data of the format YYYY/MM.\n",
    "    - **Plant_X**: Column containing the production level for Plant X.\n",
    "\n",
    "$^1$ *Expected in this context means the volume value which the internal ERP system would calculate. That means, given the number of units in the call-off order and using the weights of the parts, the total expected weight of a delivery can be calculated. However, as mentioned before, due to the sync issue, the delivered volume and expected volume would differ.*\n",
    "\n",
    "Additionally, I will use the **monthly_covid_rate_per_country.parquet** file, which is generated after pivoting the file **Covid-19_cases_age_specific.csv** to monthly values per country as columns.\n",
    "\n",
    "- **Covid-19_cases_age_specific.csv**: This data file contains information on the 14-day notification rate of newly reported COVID-19 cases per 100 000 population by age group, week and country. Each row contains the corresponding data for a certain week and country. The file is updated weekly. [source](https://www.ecdc.europa.eu/en/publications-data/covid-19-data-14-day-age-notification-rate-new-cases). The Covid data ranges from 2020-01-06 until 2023-11-20.\n",
    "    - **country**: Country name\n",
    "    - **country_code**: cuontry code\n",
    "    - **year_week**: YYYY-WW data\n",
    "    - **age_group**: age group\n",
    "    - **new_cases**: new covid cases\n",
    "    - **population**: population \n",
    "    - **rate_14_day_per_100k**: covid rate per 100.000 inhabitants\n",
    "    - **source**: Covid source type\n",
    "\n",
    "- The **monthly_covid_rate_per_country.parquet**, contains the monthly 14-day notification of newly reported COVID-19 cases per 100 000 population per european contry. The Covid data ranges from 2020-01-06 until 2023-11-20. This file is a pivoted version of the original file, for which each row represents a month and each column a country with its corresponding covid cases. Columns are: \n",
    "    - **Timestamp**: Monthly date of the format YYYY-MM-DD\n",
    "    - **Country**: Monthly COVID-19 Rate Per 100k (14-Day Average) in the given country\n",
    "\n",
    "The **Inbound_Volume_Data** and **production_data** were obtained from the ERP System of the company and were annonymized for research purposes. The Covid **Covid-19_cases_age_specific.csv** data is available on the website of the European Centre for Disease Prevention and Control."
   ]
  },
  {
   "cell_type": "markdown",
   "metadata": {
    "vscode": {
     "languageId": "bat"
    }
   },
   "source": [
    "#### Packages & Functions"
   ]
  },
  {
   "cell_type": "code",
   "execution_count": 7,
   "metadata": {},
   "outputs": [],
   "source": [
    "import warnings\n",
    "warnings.filterwarnings('ignore')\n",
    "import sys, os\n",
    "sys.path.insert(0, os.path.abspath('..'))\n",
    "\n",
    "# Import all the necessary libraries\n",
    "from src.project_imports import *"
   ]
  },
  {
   "cell_type": "markdown",
   "metadata": {},
   "source": [
    "### Data Dictionary"
   ]
  },
  {
   "cell_type": "markdown",
   "metadata": {},
   "source": [
    "#### Historical Volume Data"
   ]
  },
  {
   "cell_type": "code",
   "execution_count": 8,
   "metadata": {},
   "outputs": [
    {
     "name": "stdout",
     "output_type": "stream",
     "text": [
      "| Name                | Description                                                | Role      | Type    | Format   |\n",
      "|:--------------------|:-----------------------------------------------------------|:----------|:--------|:---------|\n",
      "| Timestamp           | Monthly date of the format YYYY-MM-DD                      | ID        | ordinal | datetime |\n",
      "| Provider            | Logistics Provider ID                                      | ID        | nominal | category |\n",
      "| Plant               | Assembly Plant ID                                          | ID        | nominal | category |\n",
      "| Actual_Vol_[Kg]     | Actual transported volume from Provider to Plant in kg     | response  | numeric | float    |\n",
      "| Expected_Vol_[Kg]   | Expected transported volume from Provider to Plant in kg   | predictor | numeric | float    |\n",
      "| Year                | Year in which transport took place                         | predictor | numeric | int      |\n",
      "| Month               | Month in which transport took place                        | predictor | numeric | int      |\n",
      "| ts_key              | Timeseries key                                             | ID        | numeric | category |\n",
      "| Actual_Vol_[Tons]   | Actual transported volume from Provider to Plant in tons   | predictor | numeric | float    |\n",
      "| Expected_Vol_[Tons] | Expected transported volume from Provider to Plant in tons | predictor | numeric | float    |\n"
     ]
    }
   ],
   "source": [
    "print(data_dict_vol.to_markdown(index=False))"
   ]
  },
  {
   "cell_type": "markdown",
   "metadata": {},
   "source": [
    "#### Historical Production Planning"
   ]
  },
  {
   "cell_type": "code",
   "execution_count": 9,
   "metadata": {},
   "outputs": [
    {
     "name": "stdout",
     "output_type": "stream",
     "text": [
      "| Name       | Description                           | Role      | Type    | Format   |\n",
      "|:-----------|:--------------------------------------|:----------|:--------|:---------|\n",
      "| Timestamp  | Monthly date of the format YYYY-MM-DD | ID        | ordinal | datetime |\n",
      "| Plant      | Assembly Plant ID                     | ID        | nominal | category |\n",
      "| Production | Production Volume in Number of Units  | predictor | numeric | int      |\n"
     ]
    }
   ],
   "source": [
    "print(data_dict_prod.to_markdown(index=False))"
   ]
  },
  {
   "cell_type": "markdown",
   "metadata": {},
   "source": [
    "#### Covid Data"
   ]
  },
  {
   "cell_type": "code",
   "execution_count": 10,
   "metadata": {},
   "outputs": [
    {
     "name": "stdout",
     "output_type": "stream",
     "text": [
      "| Name      | Description                                                          | Role      | Type    | Format   |\n",
      "|:----------|:---------------------------------------------------------------------|:----------|:--------|:---------|\n",
      "| Timestamp | Monthly date of the format YYYY-MM-DD                                | ID        | ordinal | datetime |\n",
      "| Country   | Monthly COVID-19 Rate Per 100k (14-Day Average) in the given country | predictor | numeric | float    |\n"
     ]
    }
   ],
   "source": [
    "print(data_dict_covid.to_markdown(index=False))"
   ]
  },
  {
   "cell_type": "markdown",
   "metadata": {},
   "source": [
    "## Methodology"
   ]
  },
  {
   "cell_type": "markdown",
   "metadata": {},
   "source": [
    "### Config File"
   ]
  },
  {
   "cell_type": "markdown",
   "metadata": {},
   "source": [
    "This configuration file is used to define various paths and parameters for data preprocessing, data quality checks, and feature engineering in the data analytics project. This is best practice in software projects to use `config` files, I always use this files whenever I create any project."
   ]
  },
  {
   "cell_type": "markdown",
   "metadata": {},
   "source": [
    "### Import data"
   ]
  },
  {
   "cell_type": "code",
   "execution_count": 11,
   "metadata": {},
   "outputs": [],
   "source": [
    "config = read_config(yaml_file_path=\"../config.yaml\")\n",
    "df_vol = pd.read_csv(config['preprocessing']['vol_data_path'],index_col=0)\n",
    "df_prod = pd.read_csv(config['preprocessing']['prod_data_path'],index_col=0)\n",
    "df_covid = pd.read_csv(config['preprocessing']['covid_data_path'])"
   ]
  },
  {
   "cell_type": "markdown",
   "metadata": {},
   "source": [
    "### Data Preparation & Data Quality"
   ]
  },
  {
   "cell_type": "markdown",
   "metadata": {},
   "source": [
    "In this step we adjust the data as well as apply multiple data quality checks, and data completeness to make sure that the timeseries contain data at all timestamps and that they all have the same length.  "
   ]
  },
  {
   "cell_type": "markdown",
   "metadata": {},
   "source": [
    "#### Preparation Historical Volume Data"
   ]
  },
  {
   "cell_type": "code",
   "execution_count": 12,
   "metadata": {},
   "outputs": [
    {
     "name": "stdout",
     "output_type": "stream",
     "text": [
      "The historical transport volume data contains data since 2014-01-01 00:00:00  until  2022-10-01 00:00:00\n",
      "in Total it contains data for 624  inbound logistics Provider-Plant connections\n",
      "in Total it contains data for 18  plants\n",
      "in Total it contains data for 38  Providers\n",
      "in Total it contains  47058  rows.\n",
      "in Total it contains  10  columns.\n",
      " The min date available among all timeseries is:  2014-01-01 00:00:00\n",
      " The max date available among all timeseries is:  2022-10-01 00:00:00\n",
      " The min ts length is:  1\n",
      " The max ts length is:  113\n",
      " Number of time series with data until October 2022:  306\n",
      " Number of Total Time Series Available:  624\n",
      " Number of Total Time Series Available for Prediction:  49.0  %\n",
      "Number of available timeseries after first filtering: 306\n",
      " The min ts length is  1\n",
      " The max ts length is  113\n",
      " The mean ts length is  97.5268455014001\n",
      " TS to forecast with Models 266\n",
      " TS to forecast with Models 87.0  %\n"
     ]
    }
   ],
   "source": [
    "df_vol_bronze = df_vol.copy()\n",
    "df_vol_gold = data_preparation_and_data_quality(config=config, df_vol_bronze=df_vol_bronze)"
   ]
  },
  {
   "cell_type": "markdown",
   "metadata": {},
   "source": [
    "The previous analysis shows us how important it is to verify which time series actually meet the criteria and have the desired data quality for forecasting. In our case, we found out that only 266 out of 624, that is 42% of all time series are available at the last max date and meet the business criteria for forecasting. That is to say, most data was either outdated (material connections not existing anymore) or are not relevant for the business.\n",
    "\n",
    "The 266 are the timeseries that will be relevant for forecasting. From now on, we will focus on these time series to analyze their patterns and create the forecast."
   ]
  },
  {
   "cell_type": "markdown",
   "metadata": {},
   "source": [
    "#### Preparation Production Data"
   ]
  },
  {
   "cell_type": "code",
   "execution_count": 13,
   "metadata": {},
   "outputs": [
    {
     "name": "stdout",
     "output_type": "stream",
     "text": [
      "The historical production data contains data since 2014-01-01 00:00:00  until  2023-12-01 00:00:00\n",
      "in Total it contains  2160  rows.\n",
      "in Total it contains  3  columns.\n",
      "Total available Plants are:  18\n",
      "Max Production Volume was:  409207  units. In 2015-07-01T00:00:00.000000000\n",
      "Min Production Volume was:  0  units. In 2020-04-01T00:00:00.000000000\n"
     ]
    }
   ],
   "source": [
    "df_prod_bronze = df_prod.copy()\n",
    "df_prod = preparation_production_data(config=config, df_prod_bronze=df_prod_bronze)"
   ]
  },
  {
   "cell_type": "markdown",
   "metadata": {},
   "source": [
    "#### Preparation Covid Data"
   ]
  },
  {
   "cell_type": "code",
   "execution_count": 14,
   "metadata": {},
   "outputs": [
    {
     "name": "stdout",
     "output_type": "stream",
     "text": [
      "The Covid data ranges from 2020-01-06 00:00:00  until  2023-11-20 00:00:00\n",
      "The file contains data for  29  countries.\n",
      "The file contains data for  6  age groups  ['<15yr' '15-24yr' '25-49yr' '50-64yr' '65-79yr' '80+yr']\n",
      "in Total it contains  35496  rows.\n",
      "in Total it contains  9  columns.\n"
     ]
    }
   ],
   "source": [
    "df_covid_bronze = df_covid.copy() \n",
    "df_covid = preprocesing_covid(df_covid=df_covid_bronze)\n",
    "df_covid.to_parquet(config['preprocessing']['covid_silver_path'])"
   ]
  },
  {
   "cell_type": "markdown",
   "metadata": {},
   "source": [
    "### Exploratory Data Analysis"
   ]
  },
  {
   "cell_type": "code",
   "execution_count": 16,
   "metadata": {},
   "outputs": [
    {
     "data": {
      "text/html": [
       "<div>\n",
       "<style scoped>\n",
       "    .dataframe tbody tr th:only-of-type {\n",
       "        vertical-align: middle;\n",
       "    }\n",
       "\n",
       "    .dataframe tbody tr th {\n",
       "        vertical-align: top;\n",
       "    }\n",
       "\n",
       "    .dataframe thead th {\n",
       "        text-align: right;\n",
       "    }\n",
       "</style>\n",
       "<table border=\"1\" class=\"dataframe\">\n",
       "  <thead>\n",
       "    <tr style=\"text-align: right;\">\n",
       "      <th></th>\n",
       "      <th>Timestamp</th>\n",
       "      <th>ts_key</th>\n",
       "      <th>Actual_Vol_[Tons]</th>\n",
       "      <th>Expected_Vol_[Tons]</th>\n",
       "      <th>Plant</th>\n",
       "    </tr>\n",
       "  </thead>\n",
       "  <tbody>\n",
       "    <tr>\n",
       "      <th>0</th>\n",
       "      <td>2014-01-01</td>\n",
       "      <td>Provider_10-Plant_10</td>\n",
       "      <td>476.199005</td>\n",
       "      <td>482.835999</td>\n",
       "      <td>Plant_10</td>\n",
       "    </tr>\n",
       "    <tr>\n",
       "      <th>1</th>\n",
       "      <td>2014-02-01</td>\n",
       "      <td>Provider_10-Plant_10</td>\n",
       "      <td>388.113007</td>\n",
       "      <td>388.118011</td>\n",
       "      <td>Plant_10</td>\n",
       "    </tr>\n",
       "  </tbody>\n",
       "</table>\n",
       "</div>"
      ],
      "text/plain": [
       "   Timestamp                ts_key  Actual_Vol_[Tons]  Expected_Vol_[Tons]  \\\n",
       "0 2014-01-01  Provider_10-Plant_10         476.199005           482.835999   \n",
       "1 2014-02-01  Provider_10-Plant_10         388.113007           388.118011   \n",
       "\n",
       "      Plant  \n",
       "0  Plant_10  \n",
       "1  Plant_10  "
      ]
     },
     "execution_count": 16,
     "metadata": {},
     "output_type": "execute_result"
    }
   ],
   "source": [
    "df_vol_gold.head(2)"
   ]
  },
  {
   "cell_type": "markdown",
   "metadata": {},
   "source": [
    "### Response Variable"
   ]
  },
  {
   "cell_type": "markdown",
   "metadata": {},
   "source": [
    "Our Response variable is the **Actual_Vol_[Tons]**. However, the **Production Planning Data**  would be used as a smoothing factor to transform the response variable into the so called `Vol/Prod Ratio`. Because the production data and the inbound volume have a natural correlation. We can use this relationship to create a new target variable that will compensate for variations in the inbound volume. This new variable will be called `Vol/Prod Ratio`. \n",
    "\n",
    "This approach is possible since the production planning data is always available on monthly basis for the next 12 months in the future. So if we use `Vol/Prod Ratio` instead of `Actual Vol [Kg]` to train the model, we can then easly multiply the forecast values of `Vol/Prod Ratio` with the Production Planning values to get the forecast of `Actual Vol [Kg]`. "
   ]
  },
  {
   "cell_type": "markdown",
   "metadata": {},
   "source": [
    "#### Merge Production Information to Historical Inbound Volume Data"
   ]
  },
  {
   "cell_type": "code",
   "execution_count": 17,
   "metadata": {},
   "outputs": [],
   "source": [
    "df_ratio_gold = generate_vol_prod_ratio_gold(df_vol_gold=df_vol_gold, df_prod=df_prod)"
   ]
  },
  {
   "cell_type": "markdown",
   "metadata": {},
   "source": [
    "#### Volume/Production Ratio Analysis"
   ]
  },
  {
   "cell_type": "code",
   "execution_count": 18,
   "metadata": {},
   "outputs": [
    {
     "data": {
      "image/png": "[encoded data removed]",
      "text/plain": [
       "<Figure size 600x1000 with 3 Axes>"
      ]
     },
     "metadata": {},
     "output_type": "display_data"
    }
   ],
   "source": [
    "ts_key = 'Provider_10-Plant_1'\n",
    "plot_ratio_vol_prod(ts_key=ts_key, df_ratio=df_ratio_gold) "
   ]
  },
  {
   "cell_type": "markdown",
   "metadata": {},
   "source": [
    "This visualization is very powerful. We can see how the Volume/Production ratio is closely related to the patterns from the production values as well as the historical inbound volume. "
   ]
  },
  {
   "cell_type": "markdown",
   "metadata": {},
   "source": [
    "#### Linear Interpolation"
   ]
  },
  {
   "cell_type": "markdown",
   "metadata": {},
   "source": [
    "Another important factor when working with time series is to make sure we have data for all of our timestamps. Due to the Covid outbrake, April 2020 was a month in which no production took place. However, some inbound volume did flow into the plants. Therefore, when we calculate the volume/production ratio, we will not get any data because we would be calculating a division over 0."
   ]
  },
  {
   "cell_type": "code",
   "execution_count": 19,
   "metadata": {},
   "outputs": [],
   "source": [
    "# Apply 1st order polynomial interpolation\n",
    "df_ratio_gold['Vol/Prod_ratio_kg'] = df_ratio_gold['Vol/Prod_ratio_kg'].interpolate(method='polynomial', order=1)\n",
    "# Store ratio data to Gold layer\n",
    "df_ratio_gold.to_parquet(config['preprocessing']['ratio_gold_path'])\n",
    "# Create PDF Reaport of all ratios\n",
    "#plot_ratio_all_ts(df_ratio=df_ratio_gold, path=config['preprocessing']['pdf_report_ratios_path'])"
   ]
  },
  {
   "cell_type": "markdown",
   "metadata": {},
   "source": [
    "### Timeseries Analysis"
   ]
  },
  {
   "cell_type": "markdown",
   "metadata": {},
   "source": [
    "Based on `Konrad Banachewicz` full time series course on [Kaggle](https://www.kaggle.com/code/konradb/ts-0-the-basics). We can analize different factors in our timeseries. One powerful tool, is the seasonal decomposition; in particular the additve model.  The additive model for seasonal decomposition is used to break down a time series into three components: **T[t]**: The trend component, which captures the long-term movement or direction of the data over time. **S[t]**: The seasonal component, representing repeating patterns or cycles that occur at regular intervals (e.g., monthly, yearly). **e[t]**: The residual or error component, which accounts for random fluctuations or noise that cannot be explained by the trend or seasonality.\n",
    "\n",
    "The model assumes that the time series $ Y[t] $ is the sum of these components at any time $t $:\n",
    "\n",
    "$\n",
    "Y[t] = T[t] + S[t] + e[t]\n",
    "$\n",
    "\n",
    "Since we have a strong seasonal component in the data, i.e. incoming volume is lower in the winter and summer peaks due to vacations, and higher in other months. We can use this method to generate features that can then be used by machine learning models. When it comes to univariate statistical models, they should be able to pick out these trends by themselves. A good example of these models is the ARIMA model. We can use this data and back fill and forward fill the missing values (missing values due to the 12-month seasonal parameter) as new featuers and add them to new table `timeseries_features_gold`."
   ]
  },
  {
   "cell_type": "code",
   "execution_count": 20,
   "metadata": {},
   "outputs": [
    {
     "data": {
      "text/html": [
       "<div>\n",
       "<style scoped>\n",
       "    .dataframe tbody tr th:only-of-type {\n",
       "        vertical-align: middle;\n",
       "    }\n",
       "\n",
       "    .dataframe tbody tr th {\n",
       "        vertical-align: top;\n",
       "    }\n",
       "\n",
       "    .dataframe thead th {\n",
       "        text-align: right;\n",
       "    }\n",
       "</style>\n",
       "<table border=\"1\" class=\"dataframe\">\n",
       "  <thead>\n",
       "    <tr style=\"text-align: right;\">\n",
       "      <th></th>\n",
       "      <th>trend</th>\n",
       "      <th>sesonality</th>\n",
       "      <th>residuals</th>\n",
       "      <th>ts_key</th>\n",
       "      <th>Timestamp</th>\n",
       "    </tr>\n",
       "  </thead>\n",
       "  <tbody>\n",
       "    <tr>\n",
       "      <th>20004</th>\n",
       "      <td>1.678919</td>\n",
       "      <td>1.267479</td>\n",
       "      <td>-0.87061</td>\n",
       "      <td>Provider_10-Plant_1</td>\n",
       "      <td>2015-01-01</td>\n",
       "    </tr>\n",
       "    <tr>\n",
       "      <th>20005</th>\n",
       "      <td>1.678919</td>\n",
       "      <td>-0.609561</td>\n",
       "      <td>-0.87061</td>\n",
       "      <td>Provider_10-Plant_1</td>\n",
       "      <td>2015-02-01</td>\n",
       "    </tr>\n",
       "  </tbody>\n",
       "</table>\n",
       "</div>"
      ],
      "text/plain": [
       "          trend  sesonality  residuals               ts_key  Timestamp\n",
       "20004  1.678919    1.267479   -0.87061  Provider_10-Plant_1 2015-01-01\n",
       "20005  1.678919   -0.609561   -0.87061  Provider_10-Plant_1 2015-02-01"
      ]
     },
     "execution_count": 20,
     "metadata": {},
     "output_type": "execute_result"
    }
   ],
   "source": [
    "df_ts_decomposition = features_seasonal_decomposition(df_ratio_gold=df_ratio_gold, target_col=config['feature_eng']['target_col'])\n",
    "df_ts_decomposition.to_parquet(config['preprocessing']['seasonal_feat_gold_path'])\n",
    "df_ts_decomposition.head(2)"
   ]
  },
  {
   "cell_type": "markdown",
   "metadata": {},
   "source": [
    "### Feature Engineering\n",
    "\n",
    "\n",
    "Feature engineering in machine learning is the process of selecting, transforming, and creating new input variables (features) from raw data to improve the performance of models. It involves domain knowledge and various techniques like scaling, encoding, or generating new features, helping algorithms better capture underlying patterns in the data. The goal is to enhance model accuracy and predictive power by providing more meaningful data inputs.\n",
    "\n",
    "In timeseries forecasting tasks common features engineering techniques are: \n",
    "\n",
    "- Lag Features\n",
    "- Rolling Features\n",
    "- Statistical Analysis Features like mean, stadard deviation. \n",
    "\n",
    "References can be found here [Feature Engineering for Timeseries](https://github.com/PacktPublishing/Modern-Time-Series-Forecasting-with-Python/blob/main/notebooks/Chapter06/01-Feature%20Engineering.ipynb) from the book [Modern Timeseries Forecasting with Python](https://www.oreilly.com/library/view/modern-time-series/9781835883181/)"
   ]
  },
  {
   "cell_type": "code",
   "execution_count": 21,
   "metadata": {},
   "outputs": [
    {
     "data": {
      "text/html": [
       "<div>\n",
       "<style scoped>\n",
       "    .dataframe tbody tr th:only-of-type {\n",
       "        vertical-align: middle;\n",
       "    }\n",
       "\n",
       "    .dataframe tbody tr th {\n",
       "        vertical-align: top;\n",
       "    }\n",
       "\n",
       "    .dataframe thead th {\n",
       "        text-align: right;\n",
       "    }\n",
       "</style>\n",
       "<table border=\"1\" class=\"dataframe\">\n",
       "  <thead>\n",
       "    <tr style=\"text-align: right;\">\n",
       "      <th></th>\n",
       "      <th>Timestamp</th>\n",
       "      <th>ts_key</th>\n",
       "      <th>Plant</th>\n",
       "      <th>Production</th>\n",
       "      <th>Vol/Prod_ratio_kg</th>\n",
       "      <th>ts_len</th>\n",
       "      <th>Provider</th>\n",
       "      <th>Month</th>\n",
       "      <th>Year</th>\n",
       "      <th>Vol/Prod_ratio_kg_Lag_2</th>\n",
       "      <th>...</th>\n",
       "      <th>Spain_Rolling_std_12</th>\n",
       "      <th>Sweden_Lag_4</th>\n",
       "      <th>Sweden_Lag_6</th>\n",
       "      <th>Sweden_Lag_12</th>\n",
       "      <th>Sweden_Rolling_Mean_4</th>\n",
       "      <th>Sweden_Rolling_std_4</th>\n",
       "      <th>Sweden_Rolling_Mean_6</th>\n",
       "      <th>Sweden_Rolling_std_6</th>\n",
       "      <th>Sweden_Rolling_Mean_12</th>\n",
       "      <th>Sweden_Rolling_std_12</th>\n",
       "    </tr>\n",
       "  </thead>\n",
       "  <tbody>\n",
       "    <tr>\n",
       "      <th>0</th>\n",
       "      <td>2015-01-01</td>\n",
       "      <td>Provider_10-Plant_1</td>\n",
       "      <td>Plant_1</td>\n",
       "      <td>48144</td>\n",
       "      <td>0.04869</td>\n",
       "      <td>94</td>\n",
       "      <td>Provider_10</td>\n",
       "      <td>1</td>\n",
       "      <td>2015</td>\n",
       "      <td>0.04869</td>\n",
       "      <td>...</td>\n",
       "      <td>0.0</td>\n",
       "      <td>0.0</td>\n",
       "      <td>0.0</td>\n",
       "      <td>0.0</td>\n",
       "      <td>0.0</td>\n",
       "      <td>0.0</td>\n",
       "      <td>0.0</td>\n",
       "      <td>0.0</td>\n",
       "      <td>0.0</td>\n",
       "      <td>0.0</td>\n",
       "    </tr>\n",
       "    <tr>\n",
       "      <th>1</th>\n",
       "      <td>2015-02-01</td>\n",
       "      <td>Provider_10-Plant_1</td>\n",
       "      <td>Plant_1</td>\n",
       "      <td>57400</td>\n",
       "      <td>0.00000</td>\n",
       "      <td>94</td>\n",
       "      <td>Provider_10</td>\n",
       "      <td>2</td>\n",
       "      <td>2015</td>\n",
       "      <td>0.04869</td>\n",
       "      <td>...</td>\n",
       "      <td>0.0</td>\n",
       "      <td>0.0</td>\n",
       "      <td>0.0</td>\n",
       "      <td>0.0</td>\n",
       "      <td>0.0</td>\n",
       "      <td>0.0</td>\n",
       "      <td>0.0</td>\n",
       "      <td>0.0</td>\n",
       "      <td>0.0</td>\n",
       "      <td>0.0</td>\n",
       "    </tr>\n",
       "  </tbody>\n",
       "</table>\n",
       "<p>2 rows × 320 columns</p>\n",
       "</div>"
      ],
      "text/plain": [
       "   Timestamp               ts_key    Plant  Production  Vol/Prod_ratio_kg  \\\n",
       "0 2015-01-01  Provider_10-Plant_1  Plant_1       48144            0.04869   \n",
       "1 2015-02-01  Provider_10-Plant_1  Plant_1       57400            0.00000   \n",
       "\n",
       "   ts_len     Provider  Month  Year  Vol/Prod_ratio_kg_Lag_2  ...  \\\n",
       "0      94  Provider_10      1  2015                  0.04869  ...   \n",
       "1      94  Provider_10      2  2015                  0.04869  ...   \n",
       "\n",
       "   Spain_Rolling_std_12  Sweden_Lag_4  Sweden_Lag_6  Sweden_Lag_12  \\\n",
       "0                   0.0           0.0           0.0            0.0   \n",
       "1                   0.0           0.0           0.0            0.0   \n",
       "\n",
       "   Sweden_Rolling_Mean_4  Sweden_Rolling_std_4  Sweden_Rolling_Mean_6  \\\n",
       "0                    0.0                   0.0                    0.0   \n",
       "1                    0.0                   0.0                    0.0   \n",
       "\n",
       "   Sweden_Rolling_std_6  Sweden_Rolling_Mean_12  Sweden_Rolling_std_12  \n",
       "0                   0.0                     0.0                    0.0  \n",
       "1                   0.0                     0.0                    0.0  \n",
       "\n",
       "[2 rows x 320 columns]"
      ]
     },
     "execution_count": 21,
     "metadata": {},
     "output_type": "execute_result"
    }
   ],
   "source": [
    "df_timeseries_gold = main_feature_engineering(config=config)\n",
    "df_timeseries_gold.head(2)"
   ]
  },
  {
   "cell_type": "markdown",
   "metadata": {},
   "source": [
    "### Data splitting"
   ]
  },
  {
   "cell_type": "markdown",
   "metadata": {},
   "source": [
    "In time series analysis, data splitting differs from traditional regression and classification problems because we must respect the temporal dependencies in the data. Unlike random splits, the validation and test datasets must always occur after the training dataset to ensure that future data is not used to predict past events, which would violate the time series structure.\n",
    "\n",
    "To evaluate the models effectively, I will define three separate datasets: training, validation, and testing. The test datasets will correspond to the following timeframes:\n",
    "\n",
    "- January 2022 – April 2022\n",
    "- May 2022 – August 2022\n",
    "- July 2022 – October 2022"
   ]
  },
  {
   "cell_type": "code",
   "execution_count": 22,
   "metadata": {},
   "outputs": [],
   "source": [
    "# Create the Timestamps splits for Train, Validation and Test\n",
    "# Train = [: shard[0]]\n",
    "# Validation = [shard[1] : shard[2]]\n",
    "# Test = [shard[3] : shard[4]]\n",
    "shards = [\n",
    "    [datetime(2021,8,1), datetime(2021,9,1), datetime(2021,12,1), datetime(2022,1,1), datetime(2022,4,1)],\n",
    "    [datetime(2021,12,1), datetime(2022,1,1), datetime(2022,4,1), datetime(2022,5,1), datetime(2022,8,1)],\n",
    "    [datetime(2022,2,1), datetime(2022,3,1), datetime(2022,6,1), datetime(2022,7,1), datetime(2022,10,1) ],\n",
    "]"
   ]
  },
  {
   "cell_type": "markdown",
   "metadata": {},
   "source": [
    "### Models"
   ]
  },
  {
   "cell_type": "markdown",
   "metadata": {},
   "source": [
    "#### Statistical Models\n",
    "\n",
    "In this section I will explore the following statistical Models:\n",
    "\n",
    "- **ARIMA**:(AutoRegressive Integrated Moving Average) is a forecasting method that combines autoregression, differencing, and moving averages to model and predict time series data based on its own past values and errors.\n",
    "- **Exponential Smoothing Models**: The exponential smoothing forecasting model is a method that predicts future data points by weighting past observations, giving more importance to recent data while gradually reducing the influence of older data\n",
    "- **WindowAverage**: The WindowAverage model forecasts future values by calculating the average of the most recent observations within a defined window of time, smoothing out short-term fluctuations.\n",
    "\n",
    "The python package ecosystem `nixtla` contains multiple package for different timeseries tasks. The package [statsforecast](https://nixtlaverse.nixtla.io/#statsforecast), is optimized for applying automated versions of these models. \n",
    "\n",
    "#### Machine Learning Models\n",
    "\n",
    "We will try out the Machine Learning Model known as boosted trees, in particular the algorithm LightGBM: \n",
    "\n",
    "- LightGBM is a gradient boosting framework that uses tree-based learning algorithms to produce fast, efficient, and accurate predictions, particularly suited for large datasets and high-dimensional data"
   ]
  },
  {
   "cell_type": "code",
   "execution_count": 23,
   "metadata": {},
   "outputs": [
    {
     "name": "stdout",
     "output_type": "stream",
     "text": [
      "Forecasting for test frame 2022-01-01 - 2022-04-01\n"
     ]
    },
    {
     "name": "stdout",
     "output_type": "stream",
     "text": [
      "Forecasting for test frame 2022-05-01 - 2022-08-01\n",
      "Forecasting for test frame 2022-07-01 - 2022-10-01\n",
      "Object has been stored at ../models/stats_forecast.pkl.\n"
     ]
    }
   ],
   "source": [
    "stats_models, df_stats_forecast = main_stats_models(df_timeseries_gold=df_timeseries_gold, shards=shards)"
   ]
  },
  {
   "cell_type": "code",
   "execution_count": 20,
   "metadata": {},
   "outputs": [
    {
     "name": "stdout",
     "output_type": "stream",
     "text": [
      "Train-Testing for 2022-01-01 2022-04-01\n",
      "Best hyperparameters: {'learning_rate': 0.04608012891839085, 'num_leaves': 843, 'subsample': 0.06884648751773756, 'colsample_bytree': 0.41653597216674193, 'min_data_in_leaf': 62}\n",
      "Best MAE: 2.679188434293779\n",
      "Train-Testing for 2022-05-01 2022-08-01\n",
      "Best hyperparameters: {'learning_rate': 0.061658991610382685, 'num_leaves': 806, 'subsample': 0.5851068972475411, 'colsample_bytree': 0.8000800448716248, 'min_data_in_leaf': 78}\n",
      "Best MAE: 3.940432851367421\n",
      "Train-Testing for 2022-07-01 2022-10-01\n",
      "Best hyperparameters: {'learning_rate': 0.03260605360015663, 'num_leaves': 583, 'subsample': 0.1441427452996541, 'colsample_bytree': 0.25463941448345934, 'min_data_in_leaf': 81}\n",
      "Best MAE: 4.380689978641065\n",
      "Object has been stored at ../models/lgbm_forecast.pkl.\n"
     ]
    }
   ],
   "source": [
    "lgbm_model, df_result_lgbm = main_lightgbm(df_timeseries_gold=df_timeseries_gold, shards=shards)"
   ]
  },
  {
   "cell_type": "code",
   "execution_count": 24,
   "metadata": {},
   "outputs": [
    {
     "name": "stderr",
     "output_type": "stream",
     "text": [
      "Seed set to 1\n",
      "Seed set to 1\n",
      "Seed set to 1\n",
      "GPU available: False, used: False\n",
      "TPU available: False, using: 0 TPU cores\n",
      "HPU available: False, using: 0 HPUs\n",
      "\n",
      "  | Name         | Type          | Params | Mode \n",
      "-------------------------------------------------------\n",
      "0 | loss         | MAE           | 0      | train\n",
      "1 | padder_train | ConstantPad1d | 0      | train\n",
      "2 | scaler       | TemporalNorm  | 0      | train\n",
      "3 | blocks       | ModuleList    | 2.4 M  | train\n",
      "-------------------------------------------------------\n",
      "2.4 M     Trainable params\n",
      "90        Non-trainable params\n",
      "2.4 M     Total params\n",
      "9.556     Total estimated model params size (MB)\n",
      "31        Modules in train mode\n",
      "0         Modules in eval mode\n"
     ]
    },
    {
     "name": "stdout",
     "output_type": "stream",
     "text": [
      "Min Length per Timeseries:  14\n",
      "Min/Max length of a time series: 16 , 106\n",
      "Train-Testing for 2022-01-01 2022-04-01\n"
     ]
    },
    {
     "data": {
      "application/vnd.jupyter.widget-view+json": {
       "model_id": "3eb89940bd5146c7b76d84de8dc208d9",
       "version_major": 2,
       "version_minor": 0
      },
      "text/plain": [
       "Sanity Checking: |          | 0/? [00:00<?, ?it/s]"
      ]
     },
     "metadata": {},
     "output_type": "display_data"
    },
    {
     "data": {
      "application/vnd.jupyter.widget-view+json": {
       "model_id": "8a584eee2a91401eb2da918f2544b9ff",
       "version_major": 2,
       "version_minor": 0
      },
      "text/plain": [
       "Training: |          | 0/? [00:00<?, ?it/s]"
      ]
     },
     "metadata": {},
     "output_type": "display_data"
    },
    {
     "data": {
      "application/vnd.jupyter.widget-view+json": {
       "model_id": "d4a15f9c84534095a36a9b63aaa3d15b",
       "version_major": 2,
       "version_minor": 0
      },
      "text/plain": [
       "Validation: |          | 0/? [00:00<?, ?it/s]"
      ]
     },
     "metadata": {},
     "output_type": "display_data"
    },
    {
     "name": "stderr",
     "output_type": "stream",
     "text": [
      "`Trainer.fit` stopped: `max_steps=6` reached.\n",
      "GPU available: False, used: False\n",
      "TPU available: False, using: 0 TPU cores\n",
      "HPU available: False, using: 0 HPUs\n",
      "\n",
      "  | Name         | Type          | Params | Mode \n",
      "-------------------------------------------------------\n",
      "0 | loss         | MAE           | 0      | train\n",
      "1 | padder_train | ConstantPad1d | 0      | train\n",
      "2 | scaler       | TemporalNorm  | 0      | train\n",
      "3 | blocks       | ModuleList    | 2.4 M  | train\n",
      "-------------------------------------------------------\n",
      "2.4 M     Trainable params\n",
      "0         Non-trainable params\n",
      "2.4 M     Total params\n",
      "9.538     Total estimated model params size (MB)\n",
      "34        Modules in train mode\n",
      "0         Modules in eval mode\n"
     ]
    },
    {
     "data": {
      "application/vnd.jupyter.widget-view+json": {
       "model_id": "900edb4822de47c18d48ac41b6ce9288",
       "version_major": 2,
       "version_minor": 0
      },
      "text/plain": [
       "Sanity Checking: |          | 0/? [00:00<?, ?it/s]"
      ]
     },
     "metadata": {},
     "output_type": "display_data"
    },
    {
     "data": {
      "application/vnd.jupyter.widget-view+json": {
       "model_id": "d8839c3857304c1a98c207ce8363c555",
       "version_major": 2,
       "version_minor": 0
      },
      "text/plain": [
       "Training: |          | 0/? [00:00<?, ?it/s]"
      ]
     },
     "metadata": {},
     "output_type": "display_data"
    },
    {
     "data": {
      "application/vnd.jupyter.widget-view+json": {
       "model_id": "a3cd6803dd6a44d0b3f61eba569620fb",
       "version_major": 2,
       "version_minor": 0
      },
      "text/plain": [
       "Validation: |          | 0/? [00:00<?, ?it/s]"
      ]
     },
     "metadata": {},
     "output_type": "display_data"
    },
    {
     "name": "stderr",
     "output_type": "stream",
     "text": [
      "`Trainer.fit` stopped: `max_steps=6` reached.\n",
      "GPU available: False, used: False\n",
      "TPU available: False, using: 0 TPU cores\n",
      "HPU available: False, using: 0 HPUs\n",
      "\n",
      "  | Name         | Type          | Params | Mode \n",
      "-------------------------------------------------------\n",
      "0 | loss         | MAE           | 0      | train\n",
      "1 | padder_train | ConstantPad1d | 0      | train\n",
      "2 | scaler       | TemporalNorm  | 0      | train\n",
      "3 | layers       | ModuleList    | 51.2 K | train\n",
      "-------------------------------------------------------\n",
      "51.2 K    Trainable params\n",
      "0         Non-trainable params\n",
      "51.2 K    Total params\n",
      "0.205     Total estimated model params size (MB)\n",
      "8         Modules in train mode\n",
      "0         Modules in eval mode\n"
     ]
    },
    {
     "data": {
      "application/vnd.jupyter.widget-view+json": {
       "model_id": "08b4cc5ba09240cca646386d23a051c2",
       "version_major": 2,
       "version_minor": 0
      },
      "text/plain": [
       "Sanity Checking: |          | 0/? [00:00<?, ?it/s]"
      ]
     },
     "metadata": {},
     "output_type": "display_data"
    },
    {
     "data": {
      "application/vnd.jupyter.widget-view+json": {
       "model_id": "8bd4e6e685b049bf99cc838de9c7536a",
       "version_major": 2,
       "version_minor": 0
      },
      "text/plain": [
       "Training: |          | 0/? [00:00<?, ?it/s]"
      ]
     },
     "metadata": {},
     "output_type": "display_data"
    },
    {
     "data": {
      "application/vnd.jupyter.widget-view+json": {
       "model_id": "fa008c69368944f0bfb8fde5581a5158",
       "version_major": 2,
       "version_minor": 0
      },
      "text/plain": [
       "Validation: |          | 0/? [00:00<?, ?it/s]"
      ]
     },
     "metadata": {},
     "output_type": "display_data"
    },
    {
     "name": "stderr",
     "output_type": "stream",
     "text": [
      "`Trainer.fit` stopped: `max_steps=6` reached.\n",
      "GPU available: False, used: False\n",
      "TPU available: False, using: 0 TPU cores\n",
      "HPU available: False, using: 0 HPUs\n"
     ]
    },
    {
     "data": {
      "application/vnd.jupyter.widget-view+json": {
       "model_id": "adac76ba7aab40bc938ddb66236783ee",
       "version_major": 2,
       "version_minor": 0
      },
      "text/plain": [
       "Predicting: |          | 0/? [00:00<?, ?it/s]"
      ]
     },
     "metadata": {},
     "output_type": "display_data"
    },
    {
     "name": "stderr",
     "output_type": "stream",
     "text": [
      "GPU available: False, used: False\n",
      "TPU available: False, using: 0 TPU cores\n",
      "HPU available: False, using: 0 HPUs\n"
     ]
    },
    {
     "data": {
      "application/vnd.jupyter.widget-view+json": {
       "model_id": "89b6e21f4f5b4606a8a1832f6d8f1cd1",
       "version_major": 2,
       "version_minor": 0
      },
      "text/plain": [
       "Predicting: |          | 0/? [00:00<?, ?it/s]"
      ]
     },
     "metadata": {},
     "output_type": "display_data"
    },
    {
     "name": "stderr",
     "output_type": "stream",
     "text": [
      "GPU available: False, used: False\n",
      "TPU available: False, using: 0 TPU cores\n",
      "HPU available: False, using: 0 HPUs\n"
     ]
    },
    {
     "data": {
      "application/vnd.jupyter.widget-view+json": {
       "model_id": "0273584bea9647a5b363b9e05b75f4c5",
       "version_major": 2,
       "version_minor": 0
      },
      "text/plain": [
       "Predicting: |          | 0/? [00:00<?, ?it/s]"
      ]
     },
     "metadata": {},
     "output_type": "display_data"
    },
    {
     "name": "stderr",
     "output_type": "stream",
     "text": [
      "Seed set to 1\n",
      "Seed set to 1\n",
      "Seed set to 1\n",
      "GPU available: False, used: False\n",
      "TPU available: False, using: 0 TPU cores\n",
      "HPU available: False, using: 0 HPUs\n",
      "\n",
      "  | Name         | Type          | Params | Mode \n",
      "-------------------------------------------------------\n",
      "0 | loss         | MAE           | 0      | train\n",
      "1 | padder_train | ConstantPad1d | 0      | train\n",
      "2 | scaler       | TemporalNorm  | 0      | train\n",
      "3 | blocks       | ModuleList    | 2.4 M  | train\n",
      "-------------------------------------------------------\n",
      "2.4 M     Trainable params\n",
      "90        Non-trainable params\n",
      "2.4 M     Total params\n",
      "9.556     Total estimated model params size (MB)\n",
      "31        Modules in train mode\n",
      "0         Modules in eval mode\n"
     ]
    },
    {
     "name": "stdout",
     "output_type": "stream",
     "text": [
      "Train-Testing for 2022-05-01 2022-08-01\n"
     ]
    },
    {
     "data": {
      "application/vnd.jupyter.widget-view+json": {
       "model_id": "9d9a1e3c1d874cb599c31b8305d49b27",
       "version_major": 2,
       "version_minor": 0
      },
      "text/plain": [
       "Sanity Checking: |          | 0/? [00:00<?, ?it/s]"
      ]
     },
     "metadata": {},
     "output_type": "display_data"
    },
    {
     "data": {
      "application/vnd.jupyter.widget-view+json": {
       "model_id": "2c4efd391d5449a297b7dc23f593dfb3",
       "version_major": 2,
       "version_minor": 0
      },
      "text/plain": [
       "Training: |          | 0/? [00:00<?, ?it/s]"
      ]
     },
     "metadata": {},
     "output_type": "display_data"
    },
    {
     "data": {
      "application/vnd.jupyter.widget-view+json": {
       "model_id": "fbde99731faf42f09e677030ddfdb626",
       "version_major": 2,
       "version_minor": 0
      },
      "text/plain": [
       "Validation: |          | 0/? [00:00<?, ?it/s]"
      ]
     },
     "metadata": {},
     "output_type": "display_data"
    },
    {
     "name": "stderr",
     "output_type": "stream",
     "text": [
      "`Trainer.fit` stopped: `max_steps=6` reached.\n",
      "GPU available: False, used: False\n",
      "TPU available: False, using: 0 TPU cores\n",
      "HPU available: False, using: 0 HPUs\n",
      "\n",
      "  | Name         | Type          | Params | Mode \n",
      "-------------------------------------------------------\n",
      "0 | loss         | MAE           | 0      | train\n",
      "1 | padder_train | ConstantPad1d | 0      | train\n",
      "2 | scaler       | TemporalNorm  | 0      | train\n",
      "3 | blocks       | ModuleList    | 2.4 M  | train\n",
      "-------------------------------------------------------\n",
      "2.4 M     Trainable params\n",
      "0         Non-trainable params\n",
      "2.4 M     Total params\n",
      "9.538     Total estimated model params size (MB)\n",
      "34        Modules in train mode\n",
      "0         Modules in eval mode\n"
     ]
    },
    {
     "data": {
      "application/vnd.jupyter.widget-view+json": {
       "model_id": "872a824007b6462394cbd9750aba84ee",
       "version_major": 2,
       "version_minor": 0
      },
      "text/plain": [
       "Sanity Checking: |          | 0/? [00:00<?, ?it/s]"
      ]
     },
     "metadata": {},
     "output_type": "display_data"
    },
    {
     "data": {
      "application/vnd.jupyter.widget-view+json": {
       "model_id": "09f3dedf8ec64eda9f510b0a927d9b15",
       "version_major": 2,
       "version_minor": 0
      },
      "text/plain": [
       "Training: |          | 0/? [00:00<?, ?it/s]"
      ]
     },
     "metadata": {},
     "output_type": "display_data"
    },
    {
     "data": {
      "application/vnd.jupyter.widget-view+json": {
       "model_id": "22abd60821094302a41b25249ad4367d",
       "version_major": 2,
       "version_minor": 0
      },
      "text/plain": [
       "Validation: |          | 0/? [00:00<?, ?it/s]"
      ]
     },
     "metadata": {},
     "output_type": "display_data"
    },
    {
     "name": "stderr",
     "output_type": "stream",
     "text": [
      "`Trainer.fit` stopped: `max_steps=6` reached.\n",
      "GPU available: False, used: False\n",
      "TPU available: False, using: 0 TPU cores\n",
      "HPU available: False, using: 0 HPUs\n",
      "\n",
      "  | Name         | Type          | Params | Mode \n",
      "-------------------------------------------------------\n",
      "0 | loss         | MAE           | 0      | train\n",
      "1 | padder_train | ConstantPad1d | 0      | train\n",
      "2 | scaler       | TemporalNorm  | 0      | train\n",
      "3 | layers       | ModuleList    | 51.2 K | train\n",
      "-------------------------------------------------------\n",
      "51.2 K    Trainable params\n",
      "0         Non-trainable params\n",
      "51.2 K    Total params\n",
      "0.205     Total estimated model params size (MB)\n",
      "8         Modules in train mode\n",
      "0         Modules in eval mode\n"
     ]
    },
    {
     "data": {
      "application/vnd.jupyter.widget-view+json": {
       "model_id": "dab309c53ba64a9fb79c28df14180cea",
       "version_major": 2,
       "version_minor": 0
      },
      "text/plain": [
       "Sanity Checking: |          | 0/? [00:00<?, ?it/s]"
      ]
     },
     "metadata": {},
     "output_type": "display_data"
    },
    {
     "data": {
      "application/vnd.jupyter.widget-view+json": {
       "model_id": "050fb2d0e6114b518ac5895ddf78f237",
       "version_major": 2,
       "version_minor": 0
      },
      "text/plain": [
       "Training: |          | 0/? [00:00<?, ?it/s]"
      ]
     },
     "metadata": {},
     "output_type": "display_data"
    },
    {
     "data": {
      "application/vnd.jupyter.widget-view+json": {
       "model_id": "d0e5c081efd14617b1e36f24e2c6ed3d",
       "version_major": 2,
       "version_minor": 0
      },
      "text/plain": [
       "Validation: |          | 0/? [00:00<?, ?it/s]"
      ]
     },
     "metadata": {},
     "output_type": "display_data"
    },
    {
     "name": "stderr",
     "output_type": "stream",
     "text": [
      "`Trainer.fit` stopped: `max_steps=6` reached.\n",
      "GPU available: False, used: False\n",
      "TPU available: False, using: 0 TPU cores\n",
      "HPU available: False, using: 0 HPUs\n"
     ]
    },
    {
     "data": {
      "application/vnd.jupyter.widget-view+json": {
       "model_id": "98e80c88265e4acba2844487e158e20d",
       "version_major": 2,
       "version_minor": 0
      },
      "text/plain": [
       "Predicting: |          | 0/? [00:00<?, ?it/s]"
      ]
     },
     "metadata": {},
     "output_type": "display_data"
    },
    {
     "name": "stderr",
     "output_type": "stream",
     "text": [
      "GPU available: False, used: False\n",
      "TPU available: False, using: 0 TPU cores\n",
      "HPU available: False, using: 0 HPUs\n"
     ]
    },
    {
     "data": {
      "application/vnd.jupyter.widget-view+json": {
       "model_id": "68300bf745fd478da661ecbc59bd98ff",
       "version_major": 2,
       "version_minor": 0
      },
      "text/plain": [
       "Predicting: |          | 0/? [00:00<?, ?it/s]"
      ]
     },
     "metadata": {},
     "output_type": "display_data"
    },
    {
     "name": "stderr",
     "output_type": "stream",
     "text": [
      "GPU available: False, used: False\n",
      "TPU available: False, using: 0 TPU cores\n",
      "HPU available: False, using: 0 HPUs\n"
     ]
    },
    {
     "data": {
      "application/vnd.jupyter.widget-view+json": {
       "model_id": "45844b8fd00643ccb06207aa1452f58e",
       "version_major": 2,
       "version_minor": 0
      },
      "text/plain": [
       "Predicting: |          | 0/? [00:00<?, ?it/s]"
      ]
     },
     "metadata": {},
     "output_type": "display_data"
    },
    {
     "name": "stderr",
     "output_type": "stream",
     "text": [
      "Seed set to 1\n",
      "Seed set to 1\n",
      "Seed set to 1\n",
      "GPU available: False, used: False\n",
      "TPU available: False, using: 0 TPU cores\n",
      "HPU available: False, using: 0 HPUs\n",
      "\n",
      "  | Name         | Type          | Params | Mode \n",
      "-------------------------------------------------------\n",
      "0 | loss         | MAE           | 0      | train\n",
      "1 | padder_train | ConstantPad1d | 0      | train\n",
      "2 | scaler       | TemporalNorm  | 0      | train\n",
      "3 | blocks       | ModuleList    | 2.4 M  | train\n",
      "-------------------------------------------------------\n",
      "2.4 M     Trainable params\n",
      "90        Non-trainable params\n",
      "2.4 M     Total params\n",
      "9.556     Total estimated model params size (MB)\n",
      "31        Modules in train mode\n",
      "0         Modules in eval mode\n"
     ]
    },
    {
     "name": "stdout",
     "output_type": "stream",
     "text": [
      "Train-Testing for 2022-07-01 2022-10-01\n"
     ]
    },
    {
     "data": {
      "application/vnd.jupyter.widget-view+json": {
       "model_id": "8202be12209741a99c05f4100219f01f",
       "version_major": 2,
       "version_minor": 0
      },
      "text/plain": [
       "Sanity Checking: |          | 0/? [00:00<?, ?it/s]"
      ]
     },
     "metadata": {},
     "output_type": "display_data"
    },
    {
     "data": {
      "application/vnd.jupyter.widget-view+json": {
       "model_id": "32e33d0248324b958c52b2decb85524a",
       "version_major": 2,
       "version_minor": 0
      },
      "text/plain": [
       "Training: |          | 0/? [00:00<?, ?it/s]"
      ]
     },
     "metadata": {},
     "output_type": "display_data"
    },
    {
     "data": {
      "application/vnd.jupyter.widget-view+json": {
       "model_id": "7a986a3553704620baba74245cef599c",
       "version_major": 2,
       "version_minor": 0
      },
      "text/plain": [
       "Validation: |          | 0/? [00:00<?, ?it/s]"
      ]
     },
     "metadata": {},
     "output_type": "display_data"
    },
    {
     "name": "stderr",
     "output_type": "stream",
     "text": [
      "`Trainer.fit` stopped: `max_steps=6` reached.\n",
      "GPU available: False, used: False\n",
      "TPU available: False, using: 0 TPU cores\n",
      "HPU available: False, using: 0 HPUs\n",
      "\n",
      "  | Name         | Type          | Params | Mode \n",
      "-------------------------------------------------------\n",
      "0 | loss         | MAE           | 0      | train\n",
      "1 | padder_train | ConstantPad1d | 0      | train\n",
      "2 | scaler       | TemporalNorm  | 0      | train\n",
      "3 | blocks       | ModuleList    | 2.4 M  | train\n",
      "-------------------------------------------------------\n",
      "2.4 M     Trainable params\n",
      "0         Non-trainable params\n",
      "2.4 M     Total params\n",
      "9.538     Total estimated model params size (MB)\n",
      "34        Modules in train mode\n",
      "0         Modules in eval mode\n"
     ]
    },
    {
     "data": {
      "application/vnd.jupyter.widget-view+json": {
       "model_id": "f978e1dc9d074e82b8ba559429863ee5",
       "version_major": 2,
       "version_minor": 0
      },
      "text/plain": [
       "Sanity Checking: |          | 0/? [00:00<?, ?it/s]"
      ]
     },
     "metadata": {},
     "output_type": "display_data"
    },
    {
     "data": {
      "application/vnd.jupyter.widget-view+json": {
       "model_id": "84a246d5370d4365924bdeebf6236efc",
       "version_major": 2,
       "version_minor": 0
      },
      "text/plain": [
       "Training: |          | 0/? [00:00<?, ?it/s]"
      ]
     },
     "metadata": {},
     "output_type": "display_data"
    },
    {
     "data": {
      "application/vnd.jupyter.widget-view+json": {
       "model_id": "ede07d2b0ae74065b2b3cd2664a92e47",
       "version_major": 2,
       "version_minor": 0
      },
      "text/plain": [
       "Validation: |          | 0/? [00:00<?, ?it/s]"
      ]
     },
     "metadata": {},
     "output_type": "display_data"
    },
    {
     "name": "stderr",
     "output_type": "stream",
     "text": [
      "`Trainer.fit` stopped: `max_steps=6` reached.\n",
      "GPU available: False, used: False\n",
      "TPU available: False, using: 0 TPU cores\n",
      "HPU available: False, using: 0 HPUs\n",
      "\n",
      "  | Name         | Type          | Params | Mode \n",
      "-------------------------------------------------------\n",
      "0 | loss         | MAE           | 0      | train\n",
      "1 | padder_train | ConstantPad1d | 0      | train\n",
      "2 | scaler       | TemporalNorm  | 0      | train\n",
      "3 | layers       | ModuleList    | 51.2 K | train\n",
      "-------------------------------------------------------\n",
      "51.2 K    Trainable params\n",
      "0         Non-trainable params\n",
      "51.2 K    Total params\n",
      "0.205     Total estimated model params size (MB)\n",
      "8         Modules in train mode\n",
      "0         Modules in eval mode\n"
     ]
    },
    {
     "data": {
      "application/vnd.jupyter.widget-view+json": {
       "model_id": "995808eabc194d50933cc10661806017",
       "version_major": 2,
       "version_minor": 0
      },
      "text/plain": [
       "Sanity Checking: |          | 0/? [00:00<?, ?it/s]"
      ]
     },
     "metadata": {},
     "output_type": "display_data"
    },
    {
     "data": {
      "application/vnd.jupyter.widget-view+json": {
       "model_id": "4a1fe9230b914939ad291d703de73f55",
       "version_major": 2,
       "version_minor": 0
      },
      "text/plain": [
       "Training: |          | 0/? [00:00<?, ?it/s]"
      ]
     },
     "metadata": {},
     "output_type": "display_data"
    },
    {
     "data": {
      "application/vnd.jupyter.widget-view+json": {
       "model_id": "7ffa55a5ab814a2497f19b88564f7d77",
       "version_major": 2,
       "version_minor": 0
      },
      "text/plain": [
       "Validation: |          | 0/? [00:00<?, ?it/s]"
      ]
     },
     "metadata": {},
     "output_type": "display_data"
    },
    {
     "name": "stderr",
     "output_type": "stream",
     "text": [
      "`Trainer.fit` stopped: `max_steps=6` reached.\n",
      "GPU available: False, used: False\n",
      "TPU available: False, using: 0 TPU cores\n",
      "HPU available: False, using: 0 HPUs\n"
     ]
    },
    {
     "data": {
      "application/vnd.jupyter.widget-view+json": {
       "model_id": "19054a4bd6e045e49eb9ee129c309050",
       "version_major": 2,
       "version_minor": 0
      },
      "text/plain": [
       "Predicting: |          | 0/? [00:00<?, ?it/s]"
      ]
     },
     "metadata": {},
     "output_type": "display_data"
    },
    {
     "name": "stderr",
     "output_type": "stream",
     "text": [
      "GPU available: False, used: False\n",
      "TPU available: False, using: 0 TPU cores\n",
      "HPU available: False, using: 0 HPUs\n"
     ]
    },
    {
     "data": {
      "application/vnd.jupyter.widget-view+json": {
       "model_id": "4629d075130c4edcb4e124e63b510fd7",
       "version_major": 2,
       "version_minor": 0
      },
      "text/plain": [
       "Predicting: |          | 0/? [00:00<?, ?it/s]"
      ]
     },
     "metadata": {},
     "output_type": "display_data"
    },
    {
     "name": "stderr",
     "output_type": "stream",
     "text": [
      "GPU available: False, used: False\n",
      "TPU available: False, using: 0 TPU cores\n",
      "HPU available: False, using: 0 HPUs\n"
     ]
    },
    {
     "data": {
      "application/vnd.jupyter.widget-view+json": {
       "model_id": "65eba2eaf3bc4c97919e87aac1efdd5d",
       "version_major": 2,
       "version_minor": 0
      },
      "text/plain": [
       "Predicting: |          | 0/? [00:00<?, ?it/s]"
      ]
     },
     "metadata": {},
     "output_type": "display_data"
    },
    {
     "name": "stdout",
     "output_type": "stream",
     "text": [
      "Object has been stored at ../models/deepl_forecast.pkl.\n"
     ]
    }
   ],
   "source": [
    "df_timeseries_gold = pd.read_parquet(config[\"preprocessing\"][\"timeseries_gold_path\"])\n",
    "nf_model, df_result_deepl = train_test_deep_learning(ts=df_timeseries_gold.copy(), shards=shards)\n",
    "path = \"../models/deepl_forecast.pkl\"\n",
    "store_pickle(obj=nf_model, path=path)\n",
    "# Store Forecasts\n",
    "df_result_deepl.to_parquet(\"../data/forecasts/deepl_forecast.parquet\")"
   ]
  },
  {
   "cell_type": "code",
   "execution_count": 25,
   "metadata": {},
   "outputs": [],
   "source": [
    "# Load all Results\n",
    "df_stats_forecast = pd.read_parquet(\"../data/forecasts/stats_forecast.parquet\")\n",
    "df_result_lgbm = pd.read_parquet(\"../data/forecasts/lightgmb_forecast.parquet\")\n",
    "df_result_deepl = pd.read_parquet(\"../data/forecasts/deepl_forecast.parquet\")"
   ]
  },
  {
   "cell_type": "code",
   "execution_count": 29,
   "metadata": {},
   "outputs": [
    {
     "data": {
      "text/html": [
       "<div>\n",
       "<style scoped>\n",
       "    .dataframe tbody tr th:only-of-type {\n",
       "        vertical-align: middle;\n",
       "    }\n",
       "\n",
       "    .dataframe tbody tr th {\n",
       "        vertical-align: top;\n",
       "    }\n",
       "\n",
       "    .dataframe thead th {\n",
       "        text-align: right;\n",
       "    }\n",
       "</style>\n",
       "<table border=\"1\" class=\"dataframe\">\n",
       "  <thead>\n",
       "    <tr style=\"text-align: right;\">\n",
       "      <th></th>\n",
       "      <th>ts_key</th>\n",
       "      <th>Timestamp</th>\n",
       "      <th>AutoARIMA</th>\n",
       "      <th>AutoETS</th>\n",
       "      <th>CES</th>\n",
       "      <th>SeasonalNaive</th>\n",
       "      <th>WindowAverage</th>\n",
       "      <th>test_frame</th>\n",
       "    </tr>\n",
       "  </thead>\n",
       "  <tbody>\n",
       "    <tr>\n",
       "      <th>0</th>\n",
       "      <td>Provider_10-Plant_1</td>\n",
       "      <td>2022-01-01</td>\n",
       "      <td>2.423550</td>\n",
       "      <td>2.37877</td>\n",
       "      <td>2.378803</td>\n",
       "      <td>5.15235</td>\n",
       "      <td>2.451725</td>\n",
       "      <td>2022-01-01 - 2022-04-01</td>\n",
       "    </tr>\n",
       "    <tr>\n",
       "      <th>1</th>\n",
       "      <td>Provider_10-Plant_1</td>\n",
       "      <td>2022-02-01</td>\n",
       "      <td>2.444547</td>\n",
       "      <td>2.37877</td>\n",
       "      <td>2.378812</td>\n",
       "      <td>3.65084</td>\n",
       "      <td>2.451725</td>\n",
       "      <td>2022-01-01 - 2022-04-01</td>\n",
       "    </tr>\n",
       "  </tbody>\n",
       "</table>\n",
       "</div>"
      ],
      "text/plain": [
       "                ts_key  Timestamp  AutoARIMA  AutoETS       CES  \\\n",
       "0  Provider_10-Plant_1 2022-01-01   2.423550  2.37877  2.378803   \n",
       "1  Provider_10-Plant_1 2022-02-01   2.444547  2.37877  2.378812   \n",
       "\n",
       "   SeasonalNaive  WindowAverage               test_frame  \n",
       "0        5.15235       2.451725  2022-01-01 - 2022-04-01  \n",
       "1        3.65084       2.451725  2022-01-01 - 2022-04-01  "
      ]
     },
     "execution_count": 29,
     "metadata": {},
     "output_type": "execute_result"
    }
   ],
   "source": [
    "df_stats_forecast.head(2)"
   ]
  },
  {
   "cell_type": "code",
   "execution_count": 30,
   "metadata": {},
   "outputs": [
    {
     "data": {
      "text/html": [
       "<div>\n",
       "<style scoped>\n",
       "    .dataframe tbody tr th:only-of-type {\n",
       "        vertical-align: middle;\n",
       "    }\n",
       "\n",
       "    .dataframe tbody tr th {\n",
       "        vertical-align: top;\n",
       "    }\n",
       "\n",
       "    .dataframe thead th {\n",
       "        text-align: right;\n",
       "    }\n",
       "</style>\n",
       "<table border=\"1\" class=\"dataframe\">\n",
       "  <thead>\n",
       "    <tr style=\"text-align: right;\">\n",
       "      <th></th>\n",
       "      <th>Timestamp</th>\n",
       "      <th>ts_key</th>\n",
       "      <th>NBEATS</th>\n",
       "      <th>NHITS</th>\n",
       "      <th>KAN</th>\n",
       "      <th>test_frame</th>\n",
       "    </tr>\n",
       "  </thead>\n",
       "  <tbody>\n",
       "    <tr>\n",
       "      <th>0</th>\n",
       "      <td>2022-01-01</td>\n",
       "      <td>Provider_10-Plant_1</td>\n",
       "      <td>2.169234</td>\n",
       "      <td>2.374320</td>\n",
       "      <td>1.255051</td>\n",
       "      <td>2022-01-01 - 2022-04-01</td>\n",
       "    </tr>\n",
       "    <tr>\n",
       "      <th>1</th>\n",
       "      <td>2022-02-01</td>\n",
       "      <td>Provider_10-Plant_1</td>\n",
       "      <td>2.413364</td>\n",
       "      <td>2.398451</td>\n",
       "      <td>1.613554</td>\n",
       "      <td>2022-01-01 - 2022-04-01</td>\n",
       "    </tr>\n",
       "  </tbody>\n",
       "</table>\n",
       "</div>"
      ],
      "text/plain": [
       "   Timestamp               ts_key    NBEATS     NHITS       KAN  \\\n",
       "0 2022-01-01  Provider_10-Plant_1  2.169234  2.374320  1.255051   \n",
       "1 2022-02-01  Provider_10-Plant_1  2.413364  2.398451  1.613554   \n",
       "\n",
       "                test_frame  \n",
       "0  2022-01-01 - 2022-04-01  \n",
       "1  2022-01-01 - 2022-04-01  "
      ]
     },
     "execution_count": 30,
     "metadata": {},
     "output_type": "execute_result"
    }
   ],
   "source": [
    "df_result_deepl.head(2)"
   ]
  },
  {
   "cell_type": "code",
   "execution_count": 31,
   "metadata": {},
   "outputs": [
    {
     "data": {
      "text/html": [
       "<div>\n",
       "<style scoped>\n",
       "    .dataframe tbody tr th:only-of-type {\n",
       "        vertical-align: middle;\n",
       "    }\n",
       "\n",
       "    .dataframe tbody tr th {\n",
       "        vertical-align: top;\n",
       "    }\n",
       "\n",
       "    .dataframe thead th {\n",
       "        text-align: right;\n",
       "    }\n",
       "</style>\n",
       "<table border=\"1\" class=\"dataframe\">\n",
       "  <thead>\n",
       "    <tr style=\"text-align: right;\">\n",
       "      <th></th>\n",
       "      <th>Timestamp</th>\n",
       "      <th>y_true</th>\n",
       "      <th>LIGHTGBM</th>\n",
       "      <th>test_frame</th>\n",
       "    </tr>\n",
       "    <tr>\n",
       "      <th>ts_key</th>\n",
       "      <th></th>\n",
       "      <th></th>\n",
       "      <th></th>\n",
       "      <th></th>\n",
       "    </tr>\n",
       "  </thead>\n",
       "  <tbody>\n",
       "    <tr>\n",
       "      <th>Provider_10-Plant_1</th>\n",
       "      <td>2022-01-01</td>\n",
       "      <td>2.78201</td>\n",
       "      <td>4.079643</td>\n",
       "      <td>2022-01-01 - 2022-04-01</td>\n",
       "    </tr>\n",
       "    <tr>\n",
       "      <th>Provider_10-Plant_1</th>\n",
       "      <td>2022-02-01</td>\n",
       "      <td>2.56811</td>\n",
       "      <td>3.616801</td>\n",
       "      <td>2022-01-01 - 2022-04-01</td>\n",
       "    </tr>\n",
       "  </tbody>\n",
       "</table>\n",
       "</div>"
      ],
      "text/plain": [
       "                     Timestamp   y_true  LIGHTGBM               test_frame\n",
       "ts_key                                                                    \n",
       "Provider_10-Plant_1 2022-01-01  2.78201  4.079643  2022-01-01 - 2022-04-01\n",
       "Provider_10-Plant_1 2022-02-01  2.56811  3.616801  2022-01-01 - 2022-04-01"
      ]
     },
     "execution_count": 31,
     "metadata": {},
     "output_type": "execute_result"
    }
   ],
   "source": [
    "df_result_lgbm.head(2)"
   ]
  },
  {
   "cell_type": "markdown",
   "metadata": {},
   "source": [
    "##### Feature Importance Analysis"
   ]
  },
  {
   "cell_type": "code",
   "execution_count": 32,
   "metadata": {},
   "outputs": [
    {
     "name": "stdout",
     "output_type": "stream",
     "text": [
      "Loaded object from ../models/lightgbm.pkl.\n"
     ]
    },
    {
     "data": {
      "image/png": "[encoded data removed]",
      "text/plain": [
       "<Figure size 800x400 with 1 Axes>"
      ]
     },
     "metadata": {},
     "output_type": "display_data"
    }
   ],
   "source": [
    "# TODO: Analyze COVID Impact\n",
    "model_path=\"../models/lightgbm.pkl\"\n",
    "feature_importance_df = feature_importance_analysis(model_path=model_path, top=5)"
   ]
  },
  {
   "cell_type": "markdown",
   "metadata": {},
   "source": [
    "Based on the feature importance plot we can see that the most important features are the seasonal features. This is expected as the data is seasonal and the model is able to capture the seasonality of the data. The following features are the lag based features as well as the historical production levels. Interestingly, COVID-related features had only little impact, with the first such feature **Poland_Rolling_std_4** ranking 54th out of the 351 available features."
   ]
  },
  {
   "cell_type": "markdown",
   "metadata": {},
   "source": [
    "#### Ensemble Model\n",
    "\n",
    "Finally, I can create one last model, which will be an average combination of all models. This is a powerful technique proved by Claeskens *et al*, 2016 in their paper [The forecast combination puzzle: A simple theoretical explanation](https://www.sciencedirect.com/science/article/abs/pii/S0169207016000327)"
   ]
  },
  {
   "cell_type": "code",
   "execution_count": 33,
   "metadata": {},
   "outputs": [],
   "source": [
    "df_true, df_forecats, evaluation_df, model_names = ensemble_model(config=config, \n",
    "                                            df_result_lgbm=df_result_lgbm, \n",
    "                                            df_stats_forecast=df_stats_forecast, \n",
    "                                            df_result_deepl=df_result_deepl)"
   ]
  },
  {
   "cell_type": "code",
   "execution_count": 34,
   "metadata": {},
   "outputs": [
    {
     "data": {
      "text/html": [
       "<div>\n",
       "<style scoped>\n",
       "    .dataframe tbody tr th:only-of-type {\n",
       "        vertical-align: middle;\n",
       "    }\n",
       "\n",
       "    .dataframe tbody tr th {\n",
       "        vertical-align: top;\n",
       "    }\n",
       "\n",
       "    .dataframe thead th {\n",
       "        text-align: right;\n",
       "    }\n",
       "</style>\n",
       "<table border=\"1\" class=\"dataframe\">\n",
       "  <thead>\n",
       "    <tr style=\"text-align: right;\">\n",
       "      <th></th>\n",
       "      <th>index</th>\n",
       "      <th>ts_key</th>\n",
       "      <th>Timestamp</th>\n",
       "      <th>y_true</th>\n",
       "      <th>LIGHTGBM</th>\n",
       "      <th>test_frame</th>\n",
       "      <th>AutoARIMA</th>\n",
       "      <th>AutoETS</th>\n",
       "      <th>CES</th>\n",
       "      <th>SeasonalNaive</th>\n",
       "      <th>...</th>\n",
       "      <th>LIGHTGBM_target</th>\n",
       "      <th>AutoARIMA_target</th>\n",
       "      <th>AutoETS_target</th>\n",
       "      <th>CES_target</th>\n",
       "      <th>SeasonalNaive_target</th>\n",
       "      <th>WindowAverage_target</th>\n",
       "      <th>NBEATS_target</th>\n",
       "      <th>NHITS_target</th>\n",
       "      <th>KAN_target</th>\n",
       "      <th>Ensemble_target</th>\n",
       "    </tr>\n",
       "  </thead>\n",
       "  <tbody>\n",
       "    <tr>\n",
       "      <th>0</th>\n",
       "      <td>0</td>\n",
       "      <td>Provider_10-Plant_1</td>\n",
       "      <td>2022-01-01</td>\n",
       "      <td>2.78201</td>\n",
       "      <td>4.079643</td>\n",
       "      <td>2022-01-01 - 2022-04-01</td>\n",
       "      <td>2.423550</td>\n",
       "      <td>2.37877</td>\n",
       "      <td>2.378803</td>\n",
       "      <td>5.15235</td>\n",
       "      <td>...</td>\n",
       "      <td>250665.502552</td>\n",
       "      <td>148910.203108</td>\n",
       "      <td>146158.783727</td>\n",
       "      <td>146160.793636</td>\n",
       "      <td>316575.84105</td>\n",
       "      <td>150641.339175</td>\n",
       "      <td>133284.261609</td>\n",
       "      <td>145885.360265</td>\n",
       "      <td>77114.084977</td>\n",
       "      <td>168377.352233</td>\n",
       "    </tr>\n",
       "    <tr>\n",
       "      <th>1</th>\n",
       "      <td>1</td>\n",
       "      <td>Provider_10-Plant_1</td>\n",
       "      <td>2022-02-01</td>\n",
       "      <td>2.56811</td>\n",
       "      <td>3.616801</td>\n",
       "      <td>2022-01-01 - 2022-04-01</td>\n",
       "      <td>2.444547</td>\n",
       "      <td>2.37877</td>\n",
       "      <td>2.378812</td>\n",
       "      <td>3.65084</td>\n",
       "      <td>...</td>\n",
       "      <td>290732.911143</td>\n",
       "      <td>196502.442235</td>\n",
       "      <td>191215.072035</td>\n",
       "      <td>191218.429810</td>\n",
       "      <td>293469.12256</td>\n",
       "      <td>197079.462400</td>\n",
       "      <td>193995.846436</td>\n",
       "      <td>192797.073242</td>\n",
       "      <td>129703.953552</td>\n",
       "      <td>208523.812601</td>\n",
       "    </tr>\n",
       "  </tbody>\n",
       "</table>\n",
       "<p>2 rows × 27 columns</p>\n",
       "</div>"
      ],
      "text/plain": [
       "   index               ts_key  Timestamp   y_true  LIGHTGBM  \\\n",
       "0      0  Provider_10-Plant_1 2022-01-01  2.78201  4.079643   \n",
       "1      1  Provider_10-Plant_1 2022-02-01  2.56811  3.616801   \n",
       "\n",
       "                test_frame  AutoARIMA  AutoETS       CES  SeasonalNaive  ...  \\\n",
       "0  2022-01-01 - 2022-04-01   2.423550  2.37877  2.378803        5.15235  ...   \n",
       "1  2022-01-01 - 2022-04-01   2.444547  2.37877  2.378812        3.65084  ...   \n",
       "\n",
       "   LIGHTGBM_target  AutoARIMA_target  AutoETS_target     CES_target  \\\n",
       "0    250665.502552     148910.203108   146158.783727  146160.793636   \n",
       "1    290732.911143     196502.442235   191215.072035  191218.429810   \n",
       "\n",
       "   SeasonalNaive_target  WindowAverage_target  NBEATS_target   NHITS_target  \\\n",
       "0          316575.84105         150641.339175  133284.261609  145885.360265   \n",
       "1          293469.12256         197079.462400  193995.846436  192797.073242   \n",
       "\n",
       "      KAN_target  Ensemble_target  \n",
       "0   77114.084977    168377.352233  \n",
       "1  129703.953552    208523.812601  \n",
       "\n",
       "[2 rows x 27 columns]"
      ]
     },
     "execution_count": 34,
     "metadata": {},
     "output_type": "execute_result"
    }
   ],
   "source": [
    "evaluation_df.head(2)"
   ]
  },
  {
   "cell_type": "markdown",
   "metadata": {},
   "source": [
    "## Results"
   ]
  },
  {
   "cell_type": "markdown",
   "metadata": {},
   "source": [
    "### Evaluate Model Accuracy\n",
    "\n",
    "Now we define the true values to evaluate the accuracy. Since we are using the `Vol/Prod_ratio_kg`. We have to multiply the forecast values with the Production values to get the forecast of `Actual Vol [Kg]`. These values will be called `y_target`. On the other hand, the `y_true` are the true `Vol/Prod_ratio_kg` values.\n",
    "\n",
    "When using the models to forecast the real business data, this `Production` values are the `Production Planning` provided once a month for the following next 12 months. "
   ]
  },
  {
   "cell_type": "markdown",
   "metadata": {},
   "source": [
    "#### Plot SMAPE Intervals"
   ]
  },
  {
   "cell_type": "code",
   "execution_count": 36,
   "metadata": {},
   "outputs": [
    {
     "data": {
      "image/png": "[encoded data removed]",
      "text/plain": [
       "<Figure size 1000x600 with 1 Axes>"
      ]
     },
     "metadata": {},
     "output_type": "display_data"
    }
   ],
   "source": [
    "df_accuracy_smape, df_accuracy_mae = calculate_accuracy_metrics(evaluation_df, model_names)\n",
    "buckets_data = plot_smape_buckets(df_accuracy_smape, model_names)"
   ]
  },
  {
   "cell_type": "markdown",
   "metadata": {},
   "source": [
    "This plot shows us how the different models perform in different SMAPE intervals. We can highlight that lightGBM and Ensemble Model are in the lead, having more forecasts in the lower interval ranges than the other models. We can also spot that the Sesonal Naive model is the worst model, delivering more than 100 timeseries with an SMAPE greater than 40."
   ]
  },
  {
   "cell_type": "code",
   "execution_count": 37,
   "metadata": {},
   "outputs": [
    {
     "data": {
      "text/html": [
       "<div>\n",
       "<style scoped>\n",
       "    .dataframe tbody tr th:only-of-type {\n",
       "        vertical-align: middle;\n",
       "    }\n",
       "\n",
       "    .dataframe tbody tr th {\n",
       "        vertical-align: top;\n",
       "    }\n",
       "\n",
       "    .dataframe thead th {\n",
       "        text-align: right;\n",
       "    }\n",
       "</style>\n",
       "<table border=\"1\" class=\"dataframe\">\n",
       "  <thead>\n",
       "    <tr style=\"text-align: right;\">\n",
       "      <th></th>\n",
       "      <th>smape</th>\n",
       "      <th>mae</th>\n",
       "    </tr>\n",
       "    <tr>\n",
       "      <th>model_name</th>\n",
       "      <th></th>\n",
       "      <th></th>\n",
       "    </tr>\n",
       "  </thead>\n",
       "  <tbody>\n",
       "    <tr>\n",
       "      <th>LIGHTGBM</th>\n",
       "      <td>32.163544</td>\n",
       "      <td>93657.839856</td>\n",
       "    </tr>\n",
       "    <tr>\n",
       "      <th>Ensemble</th>\n",
       "      <td>35.260045</td>\n",
       "      <td>101193.706923</td>\n",
       "    </tr>\n",
       "    <tr>\n",
       "      <th>WindowAverage</th>\n",
       "      <td>36.474580</td>\n",
       "      <td>112085.249123</td>\n",
       "    </tr>\n",
       "    <tr>\n",
       "      <th>AutoETS</th>\n",
       "      <td>37.150981</td>\n",
       "      <td>99947.145352</td>\n",
       "    </tr>\n",
       "    <tr>\n",
       "      <th>CES</th>\n",
       "      <td>38.142503</td>\n",
       "      <td>103934.853783</td>\n",
       "    </tr>\n",
       "    <tr>\n",
       "      <th>AutoARIMA</th>\n",
       "      <td>38.378447</td>\n",
       "      <td>112685.363648</td>\n",
       "    </tr>\n",
       "    <tr>\n",
       "      <th>NHITS</th>\n",
       "      <td>39.669423</td>\n",
       "      <td>102844.064577</td>\n",
       "    </tr>\n",
       "    <tr>\n",
       "      <th>NBEATS</th>\n",
       "      <td>40.415452</td>\n",
       "      <td>106436.239355</td>\n",
       "    </tr>\n",
       "    <tr>\n",
       "      <th>SeasonalNaive</th>\n",
       "      <td>53.679174</td>\n",
       "      <td>177861.029513</td>\n",
       "    </tr>\n",
       "    <tr>\n",
       "      <th>KAN</th>\n",
       "      <td>58.479689</td>\n",
       "      <td>167119.963679</td>\n",
       "    </tr>\n",
       "  </tbody>\n",
       "</table>\n",
       "</div>"
      ],
      "text/plain": [
       "                   smape            mae\n",
       "model_name                             \n",
       "LIGHTGBM       32.163544   93657.839856\n",
       "Ensemble       35.260045  101193.706923\n",
       "WindowAverage  36.474580  112085.249123\n",
       "AutoETS        37.150981   99947.145352\n",
       "CES            38.142503  103934.853783\n",
       "AutoARIMA      38.378447  112685.363648\n",
       "NHITS          39.669423  102844.064577\n",
       "NBEATS         40.415452  106436.239355\n",
       "SeasonalNaive  53.679174  177861.029513\n",
       "KAN            58.479689  167119.963679"
      ]
     },
     "execution_count": 37,
     "metadata": {},
     "output_type": "execute_result"
    }
   ],
   "source": [
    "df_acc_stats_models = pd.merge(df_accuracy_smape, df_accuracy_mae, on=['test_frame','ts_key','model_name'], how='left')\n",
    "df_acc_stats_models = df_acc_stats_models[['test_frame','ts_key','model_name','smape','mae']].copy()\n",
    "df_acc_stats_models[['model_name','smape','mae']].groupby(['model_name']).agg('mean').sort_values(by='smape', ascending=True)"
   ]
  },
  {
   "cell_type": "markdown",
   "metadata": {},
   "source": [
    "The previous dataframe shows us how the different models peform in the three test frames. We can spot how the LightGBM Model and the Ensemble model are consistently delivering values with low average SMAPE error."
   ]
  },
  {
   "cell_type": "code",
   "execution_count": 38,
   "metadata": {},
   "outputs": [
    {
     "data": {
      "image/png": "[encoded data removed]",
      "text/plain": [
       "<Figure size 1000x400 with 1 Axes>"
      ]
     },
     "metadata": {},
     "output_type": "display_data"
    },
    {
     "data": {
      "text/html": [
       "<div>\n",
       "<style scoped>\n",
       "    .dataframe tbody tr th:only-of-type {\n",
       "        vertical-align: middle;\n",
       "    }\n",
       "\n",
       "    .dataframe tbody tr th {\n",
       "        vertical-align: top;\n",
       "    }\n",
       "\n",
       "    .dataframe thead th {\n",
       "        text-align: right;\n",
       "    }\n",
       "</style>\n",
       "<table border=\"1\" class=\"dataframe\">\n",
       "  <thead>\n",
       "    <tr style=\"text-align: right;\">\n",
       "      <th></th>\n",
       "      <th>model</th>\n",
       "      <th>err_less_20_perc_ts_key</th>\n",
       "    </tr>\n",
       "  </thead>\n",
       "  <tbody>\n",
       "    <tr>\n",
       "      <th>0</th>\n",
       "      <td>LIGHTGBM</td>\n",
       "      <td>0.49</td>\n",
       "    </tr>\n",
       "    <tr>\n",
       "      <th>9</th>\n",
       "      <td>Ensemble</td>\n",
       "      <td>0.44</td>\n",
       "    </tr>\n",
       "    <tr>\n",
       "      <th>2</th>\n",
       "      <td>AutoETS</td>\n",
       "      <td>0.43</td>\n",
       "    </tr>\n",
       "    <tr>\n",
       "      <th>7</th>\n",
       "      <td>NHITS</td>\n",
       "      <td>0.41</td>\n",
       "    </tr>\n",
       "    <tr>\n",
       "      <th>5</th>\n",
       "      <td>WindowAverage</td>\n",
       "      <td>0.40</td>\n",
       "    </tr>\n",
       "    <tr>\n",
       "      <th>1</th>\n",
       "      <td>AutoARIMA</td>\n",
       "      <td>0.39</td>\n",
       "    </tr>\n",
       "    <tr>\n",
       "      <th>3</th>\n",
       "      <td>CES</td>\n",
       "      <td>0.39</td>\n",
       "    </tr>\n",
       "    <tr>\n",
       "      <th>6</th>\n",
       "      <td>NBEATS</td>\n",
       "      <td>0.35</td>\n",
       "    </tr>\n",
       "    <tr>\n",
       "      <th>4</th>\n",
       "      <td>SeasonalNaive</td>\n",
       "      <td>0.26</td>\n",
       "    </tr>\n",
       "    <tr>\n",
       "      <th>8</th>\n",
       "      <td>KAN</td>\n",
       "      <td>0.01</td>\n",
       "    </tr>\n",
       "  </tbody>\n",
       "</table>\n",
       "</div>"
      ],
      "text/plain": [
       "           model  err_less_20_perc_ts_key\n",
       "0       LIGHTGBM                     0.49\n",
       "9       Ensemble                     0.44\n",
       "2        AutoETS                     0.43\n",
       "7          NHITS                     0.41\n",
       "5  WindowAverage                     0.40\n",
       "1      AutoARIMA                     0.39\n",
       "3            CES                     0.39\n",
       "6         NBEATS                     0.35\n",
       "4  SeasonalNaive                     0.26\n",
       "8            KAN                     0.01"
      ]
     },
     "execution_count": 38,
     "metadata": {},
     "output_type": "execute_result"
    }
   ],
   "source": [
    "plot_err_less_20_SMAPE(buckets_data=buckets_data, figsize=(10,4))"
   ]
  },
  {
   "cell_type": "markdown",
   "metadata": {},
   "source": [
    "Regarding the Business Accuracy target. We can see that the highest Number of timeseries with an SMAPE error of less than 20% is achieved by the LightGBM Model, with more than 50% of the forecast values, followed by the Ensemble Model. The worst performing model is the Seasonal Naive. "
   ]
  },
  {
   "cell_type": "markdown",
   "metadata": {},
   "source": [
    "### Forecating System - Analyze Best Forecasting Model per Timeseries\n",
    "\n",
    "When it comes to forecasting systems. We can make the models compete to each other. For each timeseries we select the model with the lowest mean `SMAPE` across all test frames. With this we can increase the overall accuracy of all the predictions together, since some models would perform better than others in some timeseries. This is shown in my [paper](https://www.mdpi.com/2673-4591/39/1/75), however there I used a more complex metric (EWMA SMAPE - Exponentially Weighted Moving Average SMAPE) to pick the best performing mode. "
   ]
  },
  {
   "cell_type": "code",
   "execution_count": 39,
   "metadata": {},
   "outputs": [
    {
     "data": {
      "text/html": [
       "<div>\n",
       "<style scoped>\n",
       "    .dataframe tbody tr th:only-of-type {\n",
       "        vertical-align: middle;\n",
       "    }\n",
       "\n",
       "    .dataframe tbody tr th {\n",
       "        vertical-align: top;\n",
       "    }\n",
       "\n",
       "    .dataframe thead th {\n",
       "        text-align: right;\n",
       "    }\n",
       "</style>\n",
       "<table border=\"1\" class=\"dataframe\">\n",
       "  <thead>\n",
       "    <tr style=\"text-align: right;\">\n",
       "      <th></th>\n",
       "      <th>model_name</th>\n",
       "      <th>count</th>\n",
       "    </tr>\n",
       "  </thead>\n",
       "  <tbody>\n",
       "    <tr>\n",
       "      <th>0</th>\n",
       "      <td>LIGHTGBM</td>\n",
       "      <td>110</td>\n",
       "    </tr>\n",
       "    <tr>\n",
       "      <th>1</th>\n",
       "      <td>Ensemble</td>\n",
       "      <td>37</td>\n",
       "    </tr>\n",
       "    <tr>\n",
       "      <th>2</th>\n",
       "      <td>WindowAverage</td>\n",
       "      <td>29</td>\n",
       "    </tr>\n",
       "    <tr>\n",
       "      <th>3</th>\n",
       "      <td>NHITS</td>\n",
       "      <td>22</td>\n",
       "    </tr>\n",
       "    <tr>\n",
       "      <th>4</th>\n",
       "      <td>CES</td>\n",
       "      <td>22</td>\n",
       "    </tr>\n",
       "    <tr>\n",
       "      <th>5</th>\n",
       "      <td>AutoARIMA</td>\n",
       "      <td>17</td>\n",
       "    </tr>\n",
       "    <tr>\n",
       "      <th>6</th>\n",
       "      <td>AutoETS</td>\n",
       "      <td>13</td>\n",
       "    </tr>\n",
       "    <tr>\n",
       "      <th>7</th>\n",
       "      <td>SeasonalNaive</td>\n",
       "      <td>8</td>\n",
       "    </tr>\n",
       "    <tr>\n",
       "      <th>8</th>\n",
       "      <td>NBEATS</td>\n",
       "      <td>5</td>\n",
       "    </tr>\n",
       "    <tr>\n",
       "      <th>9</th>\n",
       "      <td>KAN</td>\n",
       "      <td>3</td>\n",
       "    </tr>\n",
       "  </tbody>\n",
       "</table>\n",
       "</div>"
      ],
      "text/plain": [
       "      model_name  count\n",
       "0       LIGHTGBM    110\n",
       "1       Ensemble     37\n",
       "2  WindowAverage     29\n",
       "3          NHITS     22\n",
       "4            CES     22\n",
       "5      AutoARIMA     17\n",
       "6        AutoETS     13\n",
       "7  SeasonalNaive      8\n",
       "8         NBEATS      5\n",
       "9            KAN      3"
      ]
     },
     "execution_count": 39,
     "metadata": {},
     "output_type": "execute_result"
    }
   ],
   "source": [
    "df_best_models, df_model_per_ts = calculate_best_models(df_accuracy_smape)\n",
    "df_model_per_ts"
   ]
  },
  {
   "cell_type": "code",
   "execution_count": 40,
   "metadata": {},
   "outputs": [
    {
     "data": {
      "image/png": "[encoded data removed]",
      "text/plain": [
       "<Figure size 400x400 with 1 Axes>"
      ]
     },
     "metadata": {},
     "output_type": "display_data"
    }
   ],
   "source": [
    "plot_model_distribution(df_model_per_ts=df_model_per_ts,figsize=(4,4))"
   ]
  },
  {
   "cell_type": "markdown",
   "metadata": {},
   "source": [
    "The previous plot shows us a clear picture on which model is picked for which proportion of timeseries. 44.7% of timeseries are showing the lowest SMAPE when using the LightGBM Model, meanwhile 15.4% of timeseries perform the best when using the Ensemble model. Even though the seasonal Naive model is the worst model. This analysis shows us that 2.6% (7 timeseries) in total show better results when using this model instead of any other."
   ]
  },
  {
   "cell_type": "markdown",
   "metadata": {},
   "source": [
    "### Average Accuracy of Best Forecasting Models - Forecasting System"
   ]
  },
  {
   "cell_type": "code",
   "execution_count": 41,
   "metadata": {},
   "outputs": [],
   "source": [
    "f_system_evaluation_df = forecast_system_evaluation_df(df_forecats, df_best_models, df_true)"
   ]
  },
  {
   "cell_type": "markdown",
   "metadata": {},
   "source": [
    "##### Calculate MAE and SMAPE of Forecasting System"
   ]
  },
  {
   "cell_type": "code",
   "execution_count": 42,
   "metadata": {},
   "outputs": [
    {
     "data": {
      "text/html": [
       "<div>\n",
       "<style scoped>\n",
       "    .dataframe tbody tr th:only-of-type {\n",
       "        vertical-align: middle;\n",
       "    }\n",
       "\n",
       "    .dataframe tbody tr th {\n",
       "        vertical-align: top;\n",
       "    }\n",
       "\n",
       "    .dataframe thead th {\n",
       "        text-align: right;\n",
       "    }\n",
       "</style>\n",
       "<table border=\"1\" class=\"dataframe\">\n",
       "  <thead>\n",
       "    <tr style=\"text-align: right;\">\n",
       "      <th></th>\n",
       "      <th></th>\n",
       "      <th>smape</th>\n",
       "      <th>mae</th>\n",
       "    </tr>\n",
       "    <tr>\n",
       "      <th>model_name</th>\n",
       "      <th>test_frame</th>\n",
       "      <th></th>\n",
       "      <th></th>\n",
       "    </tr>\n",
       "  </thead>\n",
       "  <tbody>\n",
       "    <tr>\n",
       "      <th rowspan=\"3\" valign=\"top\">best_model</th>\n",
       "      <th>2022-01-01 - 2022-04-01</th>\n",
       "      <td>16.385717</td>\n",
       "      <td>29185.040549</td>\n",
       "    </tr>\n",
       "    <tr>\n",
       "      <th>2022-05-01 - 2022-08-01</th>\n",
       "      <td>15.256857</td>\n",
       "      <td>26764.781567</td>\n",
       "    </tr>\n",
       "    <tr>\n",
       "      <th>2022-07-01 - 2022-10-01</th>\n",
       "      <td>16.676669</td>\n",
       "      <td>29627.659256</td>\n",
       "    </tr>\n",
       "  </tbody>\n",
       "</table>\n",
       "</div>"
      ],
      "text/plain": [
       "                                        smape           mae\n",
       "model_name test_frame                                      \n",
       "best_model 2022-01-01 - 2022-04-01  16.385717  29185.040549\n",
       "           2022-05-01 - 2022-08-01  15.256857  26764.781567\n",
       "           2022-07-01 - 2022-10-01  16.676669  29627.659256"
      ]
     },
     "execution_count": 42,
     "metadata": {},
     "output_type": "execute_result"
    }
   ],
   "source": [
    "df_accuracy_smape, df_accuracy_mae = forecast_system_accuracy_metrics(evaluation_df=f_system_evaluation_df)\n",
    "df_acc_stats_models = pd.merge(df_accuracy_smape, df_accuracy_mae, on=['test_frame','ts_key','model_name'], how='left')\n",
    "df_acc_stats_models = df_acc_stats_models[['test_frame','ts_key','model_name','smape','mae']].copy()\n",
    "df_acc_stats_models[['model_name','test_frame','smape','mae']].groupby(['model_name','test_frame']).agg('median')"
   ]
  },
  {
   "cell_type": "markdown",
   "metadata": {},
   "source": [
    "This analysis proves our previous statement that combining the models into a Forecasting System helps improve the overall average SMAPE for all the timeseries. Which in our cases is the target of the business team. "
   ]
  },
  {
   "cell_type": "markdown",
   "metadata": {},
   "source": [
    "#### Plot Accuracy Results - Forecasting System"
   ]
  },
  {
   "cell_type": "code",
   "execution_count": 43,
   "metadata": {},
   "outputs": [
    {
     "data": {
      "image/png": "[encoded data removed]",
      "text/plain": [
       "<Figure size 600x400 with 1 Axes>"
      ]
     },
     "metadata": {},
     "output_type": "display_data"
    }
   ],
   "source": [
    "plot_smape_histogram(data=df_accuracy_smape['smape'], figsize=(6, 4))"
   ]
  },
  {
   "cell_type": "markdown",
   "metadata": {},
   "source": [
    "The histogram illustrates that the forecasting system achieves accurate predictions for most time series (low SMAPE), with some few outliers causing larger errors. The high frequency of low SMAPE values highlights the reliability of the selected models, while the outliers suggest areas where improvements may be needed for specific types of time series. This shows that our forecasting system is coming closer to the target, to get as much as possible error below the 20% SMAPE threshold. "
   ]
  },
  {
   "cell_type": "markdown",
   "metadata": {},
   "source": [
    "#### Plot SMAPE Buckets Distributions"
   ]
  },
  {
   "cell_type": "code",
   "execution_count": 45,
   "metadata": {},
   "outputs": [
    {
     "data": {
      "image/png": "[encoded data removed]",
      "text/plain": [
       "<Figure size 600x400 with 1 Axes>"
      ]
     },
     "metadata": {},
     "output_type": "display_data"
    }
   ],
   "source": [
    "# Example usage\n",
    "buckets_data = plot_f_system_smape_buckets_distribution(df_accuracy_smape=df_accuracy_smape, figsize=(6, 4))"
   ]
  },
  {
   "cell_type": "markdown",
   "metadata": {},
   "source": [
    "We can see that our system is performing quite well and most timeseries are falling below the 20% threshold. The next chart shows us this result better."
   ]
  },
  {
   "cell_type": "code",
   "execution_count": 46,
   "metadata": {},
   "outputs": [
    {
     "data": {
      "image/png": "[encoded data removed]",
      "text/plain": [
       "<Figure size 200x400 with 1 Axes>"
      ]
     },
     "metadata": {},
     "output_type": "display_data"
    }
   ],
   "source": [
    "df_acc_less_20 = plot_err_less_20_SMAPE(buckets_data=buckets_data, figsize=(2,4))"
   ]
  },
  {
   "cell_type": "code",
   "execution_count": 47,
   "metadata": {},
   "outputs": [
    {
     "data": {
      "text/html": [
       "<div>\n",
       "<style scoped>\n",
       "    .dataframe tbody tr th:only-of-type {\n",
       "        vertical-align: middle;\n",
       "    }\n",
       "\n",
       "    .dataframe tbody tr th {\n",
       "        vertical-align: top;\n",
       "    }\n",
       "\n",
       "    .dataframe thead th {\n",
       "        text-align: right;\n",
       "    }\n",
       "</style>\n",
       "<table border=\"1\" class=\"dataframe\">\n",
       "  <thead>\n",
       "    <tr style=\"text-align: right;\">\n",
       "      <th></th>\n",
       "      <th>model</th>\n",
       "      <th>err_less_20_perc_ts_key</th>\n",
       "    </tr>\n",
       "  </thead>\n",
       "  <tbody>\n",
       "    <tr>\n",
       "      <th>0</th>\n",
       "      <td>best_model</td>\n",
       "      <td>0.63</td>\n",
       "    </tr>\n",
       "  </tbody>\n",
       "</table>\n",
       "</div>"
      ],
      "text/plain": [
       "        model  err_less_20_perc_ts_key\n",
       "0  best_model                     0.63"
      ]
     },
     "execution_count": 47,
     "metadata": {},
     "output_type": "execute_result"
    }
   ],
   "source": [
    "df_acc_less_20"
   ]
  },
  {
   "cell_type": "markdown",
   "metadata": {},
   "source": [
    "Finally, we can see that the forecasting system reaches a high accuracy level, with 61% of all timeseries with less than 20% of SMAPE."
   ]
  },
  {
   "cell_type": "markdown",
   "metadata": {},
   "source": [
    "## Discussion & Conclusions "
   ]
  },
  {
   "cell_type": "markdown",
   "metadata": {},
   "source": [
    "#### Forecasting System Performance"
   ]
  },
  {
   "cell_type": "markdown",
   "metadata": {},
   "source": [
    "With the selected best-performing models, we achieve a prediction error of less than 20% for 61% of all timeseries. That means 162 out of 266 time series. This is a good starting point for this simple forecasting system. \n",
    "\n",
    "We observed the significant advantage of selecting the best-performing model across different test frames. This approach builds a robust system capable of handling outliers effectively while maintaining high accuracy. By leveraging the strengths of each model, we achieve a blended system that maximizes overall performance.\n",
    "\n",
    "The results demonstrate that the LightGBM model is the dominant performer, delivering the lowest SMAPE values for 44.7% of the timeseries. The second-best model was the Ensemble, which balances multiple methods to perform well across various scenarios. Surprisingly, among the statistical models, the simple WindowAverage outperformed more complex models like ARIMA and ETS in terms of the number of time series for which it delivered the best performance.\n",
    "\n",
    "This finding underscores that in some cases, simpler models like WindowAverage can outperform more complex methods when data variability causes advanced models to overfit. This reinforces the importance of model selection and adaptability when dealing with diverse timeseries data.\n",
    "\n",
    "Based on the paper [Forecasting System for Inbound Logistics Material Flows at an International Automotive Company](https://www.mdpi.com/2673-4591/39/1/75), the performance of the forecasting system version 3.0 was 97% for all time series that had a prediction error of less than 20%. This is due to several factors that were not included in this analysis for simplicity:\n",
    "\n",
    "- **Selection of Best Performing Model**: I used the SMAPE to measure model accuracy, but the paper uses an Exponentially Weighted Moving Average SMAPE that takes into account the \"age\" of the error. The older the error, the less important it is in determining the best performing model. This exponential decay is based on a decay factor selected with the business experts. \n",
    "\n",
    "- **Test Time Frames**: For simplicity, we analyzed only three test frames, namely: Jan 2022 - Apr 2022, May 2022 - Aug 2022, Jul 2022 - Oct 2022. However, the forecasting system in the paper had access to much more test data, as the system has been active since 2018.\n",
    "\n",
    "- **Hyperparameter Tuning**: Hyperparameter tuning is a powerful tool for selecting the best parameters for each model, but it is also time-consuming. For simplicity, I let most models choose the best parameters using the automated routines provided by their libraries. Except for the tree-based models, where I used the package optuna. This is one additional reason why LightGBM were the best performing algorithms. \n",
    "\n",
    "- **Analysis of Historical Production Planning**: For simplicity, we have only included a single production planning record. However, this file is available every month. As explained in the paper, if one analyzes the historical errors of the company's production planning and adds them as features to all models, the accuracy will improve significantly. \n",
    "\n",
    "- **Model Pool**: So far I have only explored *statistical models* and *machine learning models*, however we still can explore *deep learning models* and *LLM foundation models* like Chronos, which might also deliver top performance. I will explore those in the final report. \n",
    "\n",
    "These are definitely considerations that can be added to improve the overall performance of this forecasting system with Python."
   ]
  },
  {
   "cell_type": "markdown",
   "metadata": {},
   "source": [
    "#### Analysis Feature Importance"
   ]
  },
  {
   "cell_type": "markdown",
   "metadata": {},
   "source": [
    "The feature importance analysis revealed that seasonal features are the most significant, as expected given the seasonality of the data and the model’s ability to capture it. Lag-based features and historical production levels follow in importance. Interestingly, COVID-related features had only little impact, with the first such feature **Poland_Rolling_std_4** ranking 54th out of the 351 available features."
   ]
  },
  {
   "cell_type": "markdown",
   "metadata": {},
   "source": [
    "#### Data Quality and Data Preparation"
   ]
  },
  {
   "cell_type": "markdown",
   "metadata": {},
   "source": [
    "\n",
    "\n",
    "Regarding **data quality and data preparation**, it is important to emphasize that this is a very important step before any model can be trained. My comments are: \n",
    "\n",
    "- Involve the business experts to validate any inconsistencies in the data, such as outliers or inaccurate values. \n",
    "- Agree with business experts on thresholds that may affect the output, e.g., time series length. \n",
    "- Educate business experts about the limitations of predictive algorithms and create contingency plans for outlier processes. \n",
    "\n",
    "In this project I could experience what Forbes stated in its article `Cleaning Big Data: Most Time-Consuming, Least Enjoyable Data Science Task` [Ref](https://www.forbes.com/sites/gilpress/2016/03/23/data-preparation-most-time-consuming-least-enjoyable-data-science-task-survey-says/) that in machine learning (ML) projects, a significant portion of the effort - often as much as 60% - is devoted to data engineering tasks such as data collection, cleaning, and preparation. This is because these phases ensure that the data is both accurate and usable, which is critical to creating meaningful ML models. Surveys from sources such as Anaconda and Kaggle have consistently shown that data scientists spend a large portion of their time on these tasks. Specifically, Anaconda found that data cleaning can take more than 45% of the time on many projects, and according to O'Reilly, handling upstream data unification and cleaning often requires complex ML pipelines, especially in large-scale data environments. It is important not to underestimate this critical step and plan accordingly.\n",
    " \n"
   ]
  },
  {
   "cell_type": "markdown",
   "metadata": {},
   "source": [
    "#### Hypothesis Analysis\n",
    "\n",
    "At the begining, we stated the hypothesis: \"There are new forecasting methods which can deliver better accuracy than traditional statistical methods\". \n",
    "\n",
    "The results thus far have demonstrated that the LightGBM model consistently outperforms traditional statistical models such as ARIMA, ETS, CTS, and Window Average. This highlights the exceptional capability of tree-based models in the context of forecasting. This finding aligns with one of the key insights from the [M5](https://www.sciencedirect.com/science/article/pii/S0169207021001874) Forecasting Competion , which also emphasized the effectiveness of machine learning approaches over conventional statistical methods."
   ]
  },
  {
   "cell_type": "markdown",
   "metadata": {},
   "source": []
  }
 ],
 "metadata": {
  "kernelspec": {
   "display_name": "Python 3",
   "language": "python",
   "name": "python3"
  },
  "language_info": {
   "codemirror_mode": {
    "name": "ipython",
    "version": 3
   },
   "file_extension": ".py",
   "mimetype": "text/x-python",
   "name": "python",
   "nbconvert_exporter": "python",
   "pygments_lexer": "ipython3",
   "version": "3.12.7"
  },
  "orig_nbformat": 4
 },
 "nbformat": 4,
 "nbformat_minor": 2
}
