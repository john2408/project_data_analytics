{
 "cells": [
  {
   "cell_type": "markdown",
   "metadata": {},
   "source": [
    "# Project proposal\n",
    "\n",
    "---\n",
    "\n",
    "Group name: John Anderson Torres Mosquera\n",
    "\n",
    "---\n"
   ]
  },
  {
   "cell_type": "markdown",
   "metadata": {},
   "source": [
    "## Introduction\n",
    "\n",
    "The introduction section includes\n",
    "\n",
    "-   an introduction to the subject matter you're investigating\n",
    "-   the motivation for your research question (citing any relevant literature)\n",
    "-   the general research question you wish to explore\n",
    "-   your hypotheses regarding the research question of interest.\n",
    "\n",
    "-------\n",
    "\n",
    "## Inbound Logistics Forecasting Benchmark\n",
    "\n",
    "### Introduction\n",
    "\n",
    "The problem at hand refers to forecasting the inbound material volume (in tons) on monthly basis for the next 4 months for an international automotive company. \n",
    "\n",
    "The motivation behind that was the lack of synchronization between suppliers and freight forwarders systems, causing over- or under-capacity planning whenever a plant’s material demands change abruptly, leading to higher logistics transportation costs. \n",
    "\n",
    "I published a paper last year about this system, as a result of a research on inbound forecasting systems that I started in 2018. It can be found here [Forecasting System for Inbound Logistics Material Flows at an International Automotive Company](https://www.mdpi.com/2673-4591/39/1/75). Howerver this codebase was written in R using the forecasting package [forecast](https://cran.r-project.org/package=forecast) by Robert Hyndman and George Athanasopoulos in their book [Forecasting at Scale](https://otexts.com/fpp3/). It included algorithms like SARIMA, Exponential Smoothing, Multilayer Neural Networks, Prophet and Vector Autoregression. At that point in time the python packages for timeseries forecasting were not as good as R's. However, the python ecosystem for forecasting has grown a lot in the recent years. There are Python packages like [nitxla](https://nixtlaverse.nixtla.io/), [lightgbm](https://lightgbm.readthedocs.io/en/latest/Python-API.html), [catboost](https://catboost.ai/), as well as LLM forecasting models like [chronos](https://huggingface.co/amazon/chronos-t5-large) that offer many additional functionalities to leverage the use of new algorithms. \n",
    "\n",
    "In M5 Competition Results [link](https://www.sciencedirect.com/science/article/pii/S0169207021001874) was demonstrated that boosted tree models can perform better than traditional statistical and methods as wel as Deep Learning Forecasting methods. This will be something we will explore along this project. \n",
    "\n",
    "Additionally, I want to use the historical covid numbers from the [European Centre for Disease Prevention and Control](https://www.ecdc.europa.eu/en/covid-19/data) to evaluate the influence of this variable in the forecasting accuracy. This is something that has not been explored in the research yet.\n",
    "\n",
    "### Research question\n",
    "\n",
    "Which new methods can be used to improve the forecasting accuracy for the Inbound Logistics Volume of an International Automotive Company?\n",
    "\n",
    "The idea is to create a forecasting system which is accurate and robust to adapt for outliers and unexpected events( e.g. COVID-19). To evaluate the forecast accuracy the `MAE (Mean Absolute Error)` and `SMAPE (Symmetric Mean Absolute Error)` will be used. This will allow us to care about the fact that in some months the transportation volume could have been 0. \n",
    "\n",
    "The test timeframes are: \n",
    "- Jan 2022 - Apr 2022\n",
    "- May 2022 - Aug 2022\n",
    "- Jul 2022 - Oct 2022\n",
    "\n",
    "This means that models tested in each frame can only be trained with data prior to that frame to avoid data leakage. \n",
    "\n",
    "One of the main Business KPI's to track forecast accuracy will be how many timeseries are in a particular `SMAPE` range, for that we will use the following intervals: \n",
    "\n",
    "- 0% to 10%\n",
    "- 10 to 20%\n",
    "- 20 to 30%\n",
    "- 30 to 40%\n",
    "- greater than 40%\n",
    "\n",
    "\n",
    "The business experts are particularly interested in having a forecating systems for which most of the timeseries have a `SMAPE` of less or equal than 20%.\n",
    "\n",
    "### Hypothesis\n",
    "\n",
    "There are new forecasting methods which can deliver better accuracy than traditional statistical methods."
   ]
  },
  {
   "cell_type": "markdown",
   "metadata": {},
   "source": [
    "\n",
    "## Data description\n",
    "\n",
    "In this section, you will describe the data set you wish to explore. This includes\n",
    "\n",
    "-   description of the observations in the data set,\n",
    "-   description of how the data was originally collected (not how you found the data but how the original curator of the data collected it).\n",
    "\n",
    "----------\n",
    "\n",
    "There are two dataset, one containing the historical volume data, another one containing the production data. In total there are:\n",
    "\n",
    "- 624  inbound logistics Provider-Plant connections\n",
    "- 18  plants\n",
    "- 38  Providers\n",
    "\n",
    "The historical transport volume data contains data since 2014-01-01 until 2022-10-01.\n",
    "The historical production data contains data since 2014-01-01 until 2023-12-01. All data until October 2022 is actual produced values, the rest are planning values.\n",
    "\n",
    "The two input data sources for this project are:\n",
    "\n",
    "- **Inbound_Volume_Data.csv** contains the historical transported material volume since January 2014 until October 2022 on monthly basis. This data comes from the Logistics Parts Mangement System. \n",
    "    - **Timestamp**: Monthly data of the format YYYY/MM.\n",
    "    - **Provider**: Logistics Service Provider.\n",
    "    - **Plant**: Assembly Plant. \n",
    "    - **Actual Vol [Kg]**: Actual transported volume from Provider to Plant in kg. \n",
    "    - **Expected Vol [Kg]**: Expected transported volume from Provider to Plant in kg. $^1$\n",
    "- **production_data.csv** contains the historical production levels of all the european plants in number of vehicles per month from January 2014 until October 2022. Data after October 2022 refers to planned production values. \n",
    "    - **Timestamp**:  Monthly data of the format YYYY/MM.\n",
    "    - **Plant_X**: Column containing the production level for Plant X.\n",
    "\n",
    "$^1$ *Expected in this context means the volume value which the internal ERP system would calculate. That means, given the number of units in the call-off order and using the weights of the parts, the total expected weight of a delivery can be calculated. However, as mentioned before, due to the sync issue, the delivered volume and expected volume would differ.*\n",
    "\n",
    "Additionally, I will explore the Covid 19 cases data: \n",
    "\n",
    "- **Covid-19_cases_age_specific.csv**: This data file contains information on the 14-day notification rate of newly reported COVID-19 cases per 100 000 population by age group, week and country. Each row contains the corresponding data for a certain week and country. The file is updated weekly. [source](https://www.ecdc.europa.eu/en/publications-data/covid-19-data-14-day-age-notification-rate-new-cases). The Covid data ranges from 2020-01-06 until 2023-11-20.\n",
    "    - **country**: Country name\n",
    "    - **country_code**: cuontry code\n",
    "    - **year_week**: YYYY-WW data\n",
    "    - **age_group**: age group\n",
    "    - **new_cases**: new covid cases\n",
    "    - **population**: population \n",
    "    - **rate_14_day_per_100k**: covid rate per 100.000 inhabitants\n",
    "    - **source**: Covid source type\n",
    "\n",
    "The **Inbound_Volume_Data** and **production_data** were obtained from the ERP System of the company and were annonymized for research purposes. The Covid **Covid-19_cases_age_specific.csv** data is available on the website of the European Centre for Disease Prevention and Control."
   ]
  },
  {
   "cell_type": "markdown",
   "metadata": {},
   "source": [
    "\n",
    "## Analysis approach\n",
    "\n",
    "In this section, you will provide a brief overview of your analysis approach. This includes:\n",
    "\n",
    "-   Description of the response variable.\n",
    "-   Visualization and summary statistics for the response variable.\n",
    "-   List of variables that will be considered as predictors\n",
    "-   Your model type (what kind of model(s) will you use ... e.g. linear regression)"
   ]
  },
  {
   "cell_type": "markdown",
   "metadata": {},
   "source": [
    "### Response Variable \n",
    "\n",
    "The response variable is the number of monthly transported Kg ot material volume from any Provider X to any Plant Y. This is available in the column `Actual Vol [Kg]`."
   ]
  },
  {
   "cell_type": "markdown",
   "metadata": {},
   "source": [
    "### Analysis Inbound Volume Data and Response Variable"
   ]
  },
  {
   "cell_type": "code",
   "execution_count": 12,
   "metadata": {},
   "outputs": [],
   "source": [
    "import pandas as pd\n",
    "from datetime import datetime\n",
    "import numpy as np\n",
    "import matplotlib.pyplot as plt\n",
    "import re"
   ]
  },
  {
   "cell_type": "code",
   "execution_count": 4,
   "metadata": {},
   "outputs": [],
   "source": [
    "df_vol = pd.read_csv(\"../data/raw/inbound_volume_data.csv\", index_col=0)\n",
    "df_vol[\"Year\"] = df_vol[\"Timestamp\"].apply(lambda x: x.split(\"/\")[0]).astype(int)\n",
    "df_vol[\"Month\"] = df_vol[\"Timestamp\"].apply(lambda x: x.split(\"/\")[1]).astype(int)\n",
    "df_vol[\"Timestamp\"] = df_vol[[\"Year\", \"Month\"]].apply(\n",
    "    lambda x: datetime(x[\"Year\"], x[\"Month\"], 1), axis=1\n",
    ")\n",
    "# Create Timeseries Key\n",
    "df_vol[\"ts_key\"] = df_vol[[\"Provider\", \"Plant\"]].apply(\n",
    "    lambda x: x[\"Provider\"] + \"-\" + x[\"Plant\"], axis=1\n",
    ")"
   ]
  },
  {
   "cell_type": "code",
   "execution_count": 5,
   "metadata": {},
   "outputs": [
    {
     "data": {
      "text/html": [
       "<div>\n",
       "<style scoped>\n",
       "    .dataframe tbody tr th:only-of-type {\n",
       "        vertical-align: middle;\n",
       "    }\n",
       "\n",
       "    .dataframe tbody tr th {\n",
       "        vertical-align: top;\n",
       "    }\n",
       "\n",
       "    .dataframe thead th {\n",
       "        text-align: right;\n",
       "    }\n",
       "</style>\n",
       "<table border=\"1\" class=\"dataframe\">\n",
       "  <thead>\n",
       "    <tr style=\"text-align: right;\">\n",
       "      <th></th>\n",
       "      <th>Timestamp</th>\n",
       "      <th>Provider</th>\n",
       "      <th>Plant</th>\n",
       "      <th>Actual Vol [Kg]</th>\n",
       "      <th>Expected Vol [Kg]</th>\n",
       "      <th>Year</th>\n",
       "      <th>Month</th>\n",
       "      <th>ts_key</th>\n",
       "    </tr>\n",
       "  </thead>\n",
       "  <tbody>\n",
       "    <tr>\n",
       "      <th>0</th>\n",
       "      <td>2015-07-01</td>\n",
       "      <td>Provider_1</td>\n",
       "      <td>Plant_1</td>\n",
       "      <td>19096</td>\n",
       "      <td>20298</td>\n",
       "      <td>2015</td>\n",
       "      <td>7</td>\n",
       "      <td>Provider_1-Plant_1</td>\n",
       "    </tr>\n",
       "    <tr>\n",
       "      <th>1</th>\n",
       "      <td>2015-08-01</td>\n",
       "      <td>Provider_1</td>\n",
       "      <td>Plant_1</td>\n",
       "      <td>187139</td>\n",
       "      <td>189973</td>\n",
       "      <td>2015</td>\n",
       "      <td>8</td>\n",
       "      <td>Provider_1-Plant_1</td>\n",
       "    </tr>\n",
       "    <tr>\n",
       "      <th>2</th>\n",
       "      <td>2015-09-01</td>\n",
       "      <td>Provider_1</td>\n",
       "      <td>Plant_1</td>\n",
       "      <td>181149</td>\n",
       "      <td>187798</td>\n",
       "      <td>2015</td>\n",
       "      <td>9</td>\n",
       "      <td>Provider_1-Plant_1</td>\n",
       "    </tr>\n",
       "    <tr>\n",
       "      <th>3</th>\n",
       "      <td>2015-10-01</td>\n",
       "      <td>Provider_1</td>\n",
       "      <td>Plant_1</td>\n",
       "      <td>202677</td>\n",
       "      <td>202327</td>\n",
       "      <td>2015</td>\n",
       "      <td>10</td>\n",
       "      <td>Provider_1-Plant_1</td>\n",
       "    </tr>\n",
       "    <tr>\n",
       "      <th>4</th>\n",
       "      <td>2015-11-01</td>\n",
       "      <td>Provider_1</td>\n",
       "      <td>Plant_1</td>\n",
       "      <td>272902</td>\n",
       "      <td>271765</td>\n",
       "      <td>2015</td>\n",
       "      <td>11</td>\n",
       "      <td>Provider_1-Plant_1</td>\n",
       "    </tr>\n",
       "  </tbody>\n",
       "</table>\n",
       "</div>"
      ],
      "text/plain": [
       "   Timestamp    Provider    Plant Actual Vol [Kg] Expected Vol [Kg]  Year  \\\n",
       "0 2015-07-01  Provider_1  Plant_1           19096             20298  2015   \n",
       "1 2015-08-01  Provider_1  Plant_1          187139            189973  2015   \n",
       "2 2015-09-01  Provider_1  Plant_1          181149            187798  2015   \n",
       "3 2015-10-01  Provider_1  Plant_1          202677            202327  2015   \n",
       "4 2015-11-01  Provider_1  Plant_1          272902            271765  2015   \n",
       "\n",
       "   Month              ts_key  \n",
       "0      7  Provider_1-Plant_1  \n",
       "1      8  Provider_1-Plant_1  \n",
       "2      9  Provider_1-Plant_1  \n",
       "3     10  Provider_1-Plant_1  \n",
       "4     11  Provider_1-Plant_1  "
      ]
     },
     "execution_count": 5,
     "metadata": {},
     "output_type": "execute_result"
    }
   ],
   "source": [
    "df_vol.head()"
   ]
  },
  {
   "cell_type": "code",
   "execution_count": 6,
   "metadata": {},
   "outputs": [
    {
     "name": "stdout",
     "output_type": "stream",
     "text": [
      "<class 'pandas.core.frame.DataFrame'>\n",
      "Index: 47058 entries, 0 to 60518\n",
      "Data columns (total 8 columns):\n",
      " #   Column             Non-Null Count  Dtype         \n",
      "---  ------             --------------  -----         \n",
      " 0   Timestamp          47058 non-null  datetime64[ns]\n",
      " 1   Provider           47058 non-null  object        \n",
      " 2   Plant              47058 non-null  object        \n",
      " 3   Actual Vol [Kg]    47055 non-null  object        \n",
      " 4   Expected Vol [Kg]  46951 non-null  object        \n",
      " 5   Year               47058 non-null  int64         \n",
      " 6   Month              47058 non-null  int64         \n",
      " 7   ts_key             47058 non-null  object        \n",
      "dtypes: datetime64[ns](1), int64(2), object(5)\n",
      "memory usage: 3.2+ MB\n"
     ]
    }
   ],
   "source": [
    "df_vol.info()"
   ]
  },
  {
   "cell_type": "code",
   "execution_count": 7,
   "metadata": {},
   "outputs": [
    {
     "name": "stdout",
     "output_type": "stream",
     "text": [
      "The historical transport volume data contains data since 2014-01-01 00:00:00  until  2022-10-01 00:00:00\n",
      "in Total it contains data for 624  inbound logistics Provider-Plant connections\n",
      "in Total it contains data for 18  plants\n",
      "in Total it contains data for 38  Providers\n",
      "in Total it contains  47058  rows.\n",
      "in Total it contains  8  columns.\n"
     ]
    }
   ],
   "source": [
    "print(\"The historical transport volume data contains data since\", df_vol['Timestamp'].min(), \" until \", df_vol['Timestamp'].max())\n",
    "print(\"in Total it contains data for\", df_vol['ts_key'].nunique(), \" inbound logistics Provider-Plant connections\")\n",
    "print(\"in Total it contains data for\", df_vol['Plant'].nunique(), \" plants\")\n",
    "print(\"in Total it contains data for\", df_vol['Provider'].nunique(), \" Providers\")\n",
    "print(\"in Total it contains \", df_vol.shape[0], \" rows.\")\n",
    "print(\"in Total it contains \", df_vol.shape[1], \" columns.\")"
   ]
  },
  {
   "cell_type": "markdown",
   "metadata": {},
   "source": [
    "### Data Transformations\n",
    "\n",
    "In order to visualize the data. First we need to transform the columns `Actual Vol [Kg]` and `Expected Vol [Kg]`, which are in object type to float type."
   ]
  },
  {
   "cell_type": "code",
   "execution_count": 13,
   "metadata": {},
   "outputs": [],
   "source": [
    "df_vol[\"Actual Vol [Kg]\"] = (\n",
    "    df_vol[\"Actual Vol [Kg]\"].str.replace(\".\", \"\").astype(\"float\")\n",
    ")\n",
    "df_vol[\"Expected Vol [Kg]\"] = df_vol[\"Expected Vol [Kg]\"].str.replace(\".\", \"\")\n",
    "df_vol[\"Expected Vol [Kg]\"] = (\n",
    "    df_vol[\"Expected Vol [Kg]\"].str.replace(\",\", \".\").astype(\"float\")\n",
    ")\n",
    "\n",
    "df_vol[\"Actual Vol [Tons]\"] = np.round(df_vol[\"Actual Vol [Kg]\"] / 1000, 3)\n",
    "df_vol[\"Expected Vol [Tons]\"] = np.round(df_vol[\"Expected Vol [Kg]\"] / 1000, 3)"
   ]
  },
  {
   "cell_type": "code",
   "execution_count": 14,
   "metadata": {},
   "outputs": [
    {
     "name": "stdout",
     "output_type": "stream",
     "text": [
      "<class 'pandas.core.frame.DataFrame'>\n",
      "Index: 47058 entries, 0 to 60518\n",
      "Data columns (total 10 columns):\n",
      " #   Column               Non-Null Count  Dtype         \n",
      "---  ------               --------------  -----         \n",
      " 0   Timestamp            47058 non-null  datetime64[ns]\n",
      " 1   Provider             47058 non-null  object        \n",
      " 2   Plant                47058 non-null  object        \n",
      " 3   Actual Vol [Kg]      47055 non-null  float64       \n",
      " 4   Expected Vol [Kg]    46951 non-null  float64       \n",
      " 5   Year                 47058 non-null  int64         \n",
      " 6   Month                47058 non-null  int64         \n",
      " 7   ts_key               47058 non-null  object        \n",
      " 8   Actual Vol [Tons]    47055 non-null  float64       \n",
      " 9   Expected Vol [Tons]  46951 non-null  float64       \n",
      "dtypes: datetime64[ns](1), float64(4), int64(2), object(3)\n",
      "memory usage: 3.9+ MB\n"
     ]
    }
   ],
   "source": [
    "df_vol.info()"
   ]
  },
  {
   "cell_type": "code",
   "execution_count": 15,
   "metadata": {},
   "outputs": [
    {
     "data": {
      "image/png": "[encoded data removed]",
      "text/plain": [
       "<Figure size 640x480 with 1 Axes>"
      ]
     },
     "metadata": {},
     "output_type": "display_data"
    },
    {
     "data": {
      "text/plain": [
       "<Figure size 1200x500 with 0 Axes>"
      ]
     },
     "metadata": {},
     "output_type": "display_data"
    }
   ],
   "source": [
    "ts_key = \"Provider_1-Plant_1\"\n",
    "x_axis = \"Timestamp\"\n",
    "y1_axis = \"Actual Vol [Kg]\"\n",
    "y2_axis = \"Expected Vol [Kg]\"\n",
    "_df = df_vol.query(f\" ts_key == '{ts_key}'\")\n",
    "x = _df[x_axis]\n",
    "y1 = _df[y1_axis]\n",
    "y2 = _df[y2_axis]\n",
    "\n",
    "# Create a figure\n",
    "fig, ax = plt.subplots()\n",
    "\n",
    "# Create a line plot\n",
    "plt.rc(\"text\", usetex=False)\n",
    "plt.figure(figsize=(12, 5))\n",
    "ax.plot(x, y1, label=y1_axis)\n",
    "ax.plot(x, y2, label=y2_axis)\n",
    "\n",
    "# Add gridlines\n",
    "ax.grid(True)\n",
    "\n",
    "# Set a light gray background color\n",
    "ax.set_facecolor(\"#f0f0f0\")\n",
    "\n",
    "# Add labels and a legend\n",
    "ax.set_xlabel(x_axis)\n",
    "ax.tick_params(axis=\"x\", rotation=90)\n",
    "ax.set_ylabel(\"Incoming Tons\")\n",
    "ax.set_title(ts_key)\n",
    "ax.legend()\n",
    "\n",
    "# # Show the plot\n",
    "plt.show()"
   ]
  },
  {
   "cell_type": "code",
   "execution_count": 20,
   "metadata": {},
   "outputs": [
    {
     "data": {
      "text/html": [
       "<div>\n",
       "<style scoped>\n",
       "    .dataframe tbody tr th:only-of-type {\n",
       "        vertical-align: middle;\n",
       "    }\n",
       "\n",
       "    .dataframe tbody tr th {\n",
       "        vertical-align: top;\n",
       "    }\n",
       "\n",
       "    .dataframe thead th {\n",
       "        text-align: right;\n",
       "    }\n",
       "</style>\n",
       "<table border=\"1\" class=\"dataframe\">\n",
       "  <thead>\n",
       "    <tr style=\"text-align: right;\">\n",
       "      <th></th>\n",
       "      <th>Timestamp</th>\n",
       "      <th>Actual Vol [Kg]</th>\n",
       "      <th>Expected Vol [Kg]</th>\n",
       "      <th>Year</th>\n",
       "      <th>Month</th>\n",
       "      <th>Actual Vol [Tons]</th>\n",
       "      <th>Expected Vol [Tons]</th>\n",
       "    </tr>\n",
       "  </thead>\n",
       "  <tbody>\n",
       "    <tr>\n",
       "      <th>count</th>\n",
       "      <td>47058</td>\n",
       "      <td>4.705500e+04</td>\n",
       "      <td>4.695100e+04</td>\n",
       "      <td>47058.000000</td>\n",
       "      <td>47058.000000</td>\n",
       "      <td>47055.000000</td>\n",
       "      <td>46951.000000</td>\n",
       "    </tr>\n",
       "    <tr>\n",
       "      <th>mean</th>\n",
       "      <td>2018-05-12 19:43:06.510263552</td>\n",
       "      <td>4.446285e+05</td>\n",
       "      <td>8.292719e+05</td>\n",
       "      <td>2017.912172</td>\n",
       "      <td>6.412002</td>\n",
       "      <td>444.628452</td>\n",
       "      <td>829.271898</td>\n",
       "    </tr>\n",
       "    <tr>\n",
       "      <th>min</th>\n",
       "      <td>2014-01-01 00:00:00</td>\n",
       "      <td>1.000000e+00</td>\n",
       "      <td>0.000000e+00</td>\n",
       "      <td>2014.000000</td>\n",
       "      <td>1.000000</td>\n",
       "      <td>0.001000</td>\n",
       "      <td>0.000000</td>\n",
       "    </tr>\n",
       "    <tr>\n",
       "      <th>25%</th>\n",
       "      <td>2016-05-01 00:00:00</td>\n",
       "      <td>7.908550e+04</td>\n",
       "      <td>6.820250e+04</td>\n",
       "      <td>2016.000000</td>\n",
       "      <td>3.000000</td>\n",
       "      <td>79.085500</td>\n",
       "      <td>68.202500</td>\n",
       "    </tr>\n",
       "    <tr>\n",
       "      <th>50%</th>\n",
       "      <td>2018-06-01 00:00:00</td>\n",
       "      <td>2.480090e+05</td>\n",
       "      <td>2.206440e+05</td>\n",
       "      <td>2018.000000</td>\n",
       "      <td>6.000000</td>\n",
       "      <td>248.009000</td>\n",
       "      <td>220.644000</td>\n",
       "    </tr>\n",
       "    <tr>\n",
       "      <th>75%</th>\n",
       "      <td>2020-06-01 00:00:00</td>\n",
       "      <td>5.767820e+05</td>\n",
       "      <td>5.253174e+05</td>\n",
       "      <td>2020.000000</td>\n",
       "      <td>9.000000</td>\n",
       "      <td>576.782000</td>\n",
       "      <td>525.317500</td>\n",
       "    </tr>\n",
       "    <tr>\n",
       "      <th>max</th>\n",
       "      <td>2022-10-01 00:00:00</td>\n",
       "      <td>5.880148e+07</td>\n",
       "      <td>5.165009e+08</td>\n",
       "      <td>2022.000000</td>\n",
       "      <td>12.000000</td>\n",
       "      <td>58801.478000</td>\n",
       "      <td>516500.852000</td>\n",
       "    </tr>\n",
       "    <tr>\n",
       "      <th>std</th>\n",
       "      <td>NaN</td>\n",
       "      <td>7.162504e+05</td>\n",
       "      <td>9.156459e+06</td>\n",
       "      <td>2.430827</td>\n",
       "      <td>3.421207</td>\n",
       "      <td>716.250404</td>\n",
       "      <td>9156.458726</td>\n",
       "    </tr>\n",
       "  </tbody>\n",
       "</table>\n",
       "</div>"
      ],
      "text/plain": [
       "                           Timestamp  Actual Vol [Kg]  Expected Vol [Kg]  \\\n",
       "count                          47058     4.705500e+04       4.695100e+04   \n",
       "mean   2018-05-12 19:43:06.510263552     4.446285e+05       8.292719e+05   \n",
       "min              2014-01-01 00:00:00     1.000000e+00       0.000000e+00   \n",
       "25%              2016-05-01 00:00:00     7.908550e+04       6.820250e+04   \n",
       "50%              2018-06-01 00:00:00     2.480090e+05       2.206440e+05   \n",
       "75%              2020-06-01 00:00:00     5.767820e+05       5.253174e+05   \n",
       "max              2022-10-01 00:00:00     5.880148e+07       5.165009e+08   \n",
       "std                              NaN     7.162504e+05       9.156459e+06   \n",
       "\n",
       "               Year         Month  Actual Vol [Tons]  Expected Vol [Tons]  \n",
       "count  47058.000000  47058.000000       47055.000000         46951.000000  \n",
       "mean    2017.912172      6.412002         444.628452           829.271898  \n",
       "min     2014.000000      1.000000           0.001000             0.000000  \n",
       "25%     2016.000000      3.000000          79.085500            68.202500  \n",
       "50%     2018.000000      6.000000         248.009000           220.644000  \n",
       "75%     2020.000000      9.000000         576.782000           525.317500  \n",
       "max     2022.000000     12.000000       58801.478000        516500.852000  \n",
       "std        2.430827      3.421207         716.250404          9156.458726  "
      ]
     },
     "execution_count": 20,
     "metadata": {},
     "output_type": "execute_result"
    }
   ],
   "source": [
    "desc = df_vol.describe()\n",
    "desc"
   ]
  },
  {
   "cell_type": "code",
   "execution_count": 23,
   "metadata": {},
   "outputs": [
    {
     "data": {
      "text/plain": [
       "count       47.055000\n",
       "mean       444.628452\n",
       "min          0.001000\n",
       "25%         79.085500\n",
       "50%        248.009000\n",
       "75%        576.782000\n",
       "max      58801.478000\n",
       "std        716.250404\n",
       "Name: Actual Vol [Kg], dtype: float64"
      ]
     },
     "execution_count": 23,
     "metadata": {},
     "output_type": "execute_result"
    }
   ],
   "source": [
    "desc['Actual Vol [Kg]'] /1000"
   ]
  },
  {
   "cell_type": "markdown",
   "metadata": {},
   "source": [
    "### Predictor Variables"
   ]
  },
  {
   "cell_type": "markdown",
   "metadata": {},
   "source": [
    "In Timeseries forecasting it is common to carry out feature engineering using the response variable. For time dependent variables the common approach is to calculate lagged values as well as rolling statistics, e.g., rolling mean and rolling standard deviation. \n",
    "\n",
    "For the **historical transport volume** data the predictor variable would be:\n",
    "\n",
    "- Provider \n",
    "- Plant\n",
    "- Expected Vol (Lagged Values, Rolling Mean, Rolling Std)\n",
    "- Acutual Vol ( Lagged Values, Rolling Mean, Rolling Std)\n",
    "- Year\n",
    "- Month\n",
    "\n",
    "For the **Covid Data Set** the reponse variables would be. After pivoting and transforming the data in order to match the timestamps values, I would use the following columns as predictors:\n",
    "\n",
    "- population_per_country\n",
    "- rate_14_day_per_100k_per_country_per_age\n",
    "\n",
    "Regarding the **Production Planning Data** it would be used as a smoothing factor to transform the response variable into the so called `Vol/Prod Ratio`. Because the production data and the inbound volume have a natural correlation. We can use this relationship to create a new target variable that will compensate for variations in the inbound volume. This new variable will be called `Vol/Prod Ratio`. \n",
    "\n",
    "This approach is possible since the production planning data is always available on monthly basis for the next 12 months in the future. So if we use `Vol/Prod Ratio` instead of `Actual Vol [Kg]` to train the model, we can then easly multiply the forecast values of `Vol/Prod Ratio` with the Production Planning values to get the forecast of `Actual Vol [Kg]`. "
   ]
  },
  {
   "cell_type": "markdown",
   "metadata": {},
   "source": [
    "## Data dictionary\n",
    "\n",
    "*Create a data dictionary for all the variables in your data set. You may fill out the data description table or create your own table with Pandas:*\n",
    "\n",
    "<br>\n",
    "\n",
    "\n",
    "| Name  |   Description\t| Role   \t| Type   \t|  Format \t|\n",
    "|---\t|---\t        |---    \t|---\t    |---\t|\n",
    "|   x\t|   \t X       |   \tX    |   X\t    |   X\t|\n",
    "|   \t|   \t        |   \t    |   \t    |   \t|\n",
    "|   \t|   \t        |   \t    |   \t    |   \t|\n",
    "\n",
    "\n",
    "<br>\n",
    "\n",
    "- `Role`: response, predictor, ID (ID columns are not used in a model but can help to better understand the data)\n",
    "\n",
    "- `Type`: nominal, ordinal or numeric\n",
    "\n",
    "- `Format`: int, float, string, category, date or object"
   ]
  },
  {
   "cell_type": "markdown",
   "metadata": {},
   "source": []
  }
 ],
 "metadata": {
  "kernelspec": {
   "display_name": ".venv",
   "language": "python",
   "name": "python3"
  },
  "language_info": {
   "codemirror_mode": {
    "name": "ipython",
    "version": 3
   },
   "file_extension": ".py",
   "mimetype": "text/x-python",
   "name": "python",
   "nbconvert_exporter": "python",
   "pygments_lexer": "ipython3",
   "version": "3.12.7"
  },
  "orig_nbformat": 4
 },
 "nbformat": 4,
 "nbformat_minor": 2
}
